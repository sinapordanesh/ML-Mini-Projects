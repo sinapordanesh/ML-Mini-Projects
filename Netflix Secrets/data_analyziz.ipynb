{
 "cells": [
  {
   "cell_type": "code",
   "execution_count": 33,
   "metadata": {},
   "outputs": [
    {
     "name": "stdout",
     "output_type": "stream",
     "text": [
      "Requirement already satisfied: pandas in /Users/sina/opt/anaconda3/lib/python3.9/site-packages (1.1.5)\n",
      "Requirement already satisfied: pytz>=2017.2 in /Users/sina/opt/anaconda3/lib/python3.9/site-packages (from pandas) (2021.3)\n",
      "Requirement already satisfied: python-dateutil>=2.7.3 in /Users/sina/opt/anaconda3/lib/python3.9/site-packages (from pandas) (2.8.2)\n",
      "Requirement already satisfied: numpy>=1.15.4 in /Users/sina/opt/anaconda3/lib/python3.9/site-packages (from pandas) (1.22.0)\n",
      "Requirement already satisfied: six>=1.5 in /Users/sina/opt/anaconda3/lib/python3.9/site-packages (from python-dateutil>=2.7.3->pandas) (1.16.0)\n"
     ]
    }
   ],
   "source": [
    "# ! pip install pandas"
   ]
  },
  {
   "cell_type": "code",
   "execution_count": 3,
   "metadata": {},
   "outputs": [],
   "source": [
    "import pandas as pd\n",
    "import numpy as np\n",
    "import matplotlib.pyplot as plt\n",
    "import os"
   ]
  },
  {
   "cell_type": "code",
   "execution_count": 40,
   "metadata": {},
   "outputs": [
    {
     "data": {
      "text/html": [
       "<div>\n",
       "<style scoped>\n",
       "    .dataframe tbody tr th:only-of-type {\n",
       "        vertical-align: middle;\n",
       "    }\n",
       "\n",
       "    .dataframe tbody tr th {\n",
       "        vertical-align: top;\n",
       "    }\n",
       "\n",
       "    .dataframe thead th {\n",
       "        text-align: right;\n",
       "    }\n",
       "</style>\n",
       "<table border=\"1\" class=\"dataframe\">\n",
       "  <thead>\n",
       "    <tr style=\"text-align: right;\">\n",
       "      <th></th>\n",
       "      <th>Title</th>\n",
       "      <th>Available Globally?</th>\n",
       "      <th>Release Date</th>\n",
       "      <th>Hours Viewed</th>\n",
       "    </tr>\n",
       "  </thead>\n",
       "  <tbody>\n",
       "    <tr>\n",
       "      <th>0</th>\n",
       "      <td>The Night Agent: Season 1</td>\n",
       "      <td>Yes</td>\n",
       "      <td>2023-03-23</td>\n",
       "      <td>812,100,000</td>\n",
       "    </tr>\n",
       "    <tr>\n",
       "      <th>1</th>\n",
       "      <td>Ginny &amp; Georgia: Season 2</td>\n",
       "      <td>Yes</td>\n",
       "      <td>2023-01-05</td>\n",
       "      <td>665,100,000</td>\n",
       "    </tr>\n",
       "    <tr>\n",
       "      <th>2</th>\n",
       "      <td>The Glory: Season 1 // 더 글로리: 시즌 1</td>\n",
       "      <td>Yes</td>\n",
       "      <td>2022-12-30</td>\n",
       "      <td>622,800,000</td>\n",
       "    </tr>\n",
       "    <tr>\n",
       "      <th>3</th>\n",
       "      <td>Wednesday: Season 1</td>\n",
       "      <td>Yes</td>\n",
       "      <td>2022-11-23</td>\n",
       "      <td>507,700,000</td>\n",
       "    </tr>\n",
       "    <tr>\n",
       "      <th>4</th>\n",
       "      <td>Queen Charlotte: A Bridgerton Story</td>\n",
       "      <td>Yes</td>\n",
       "      <td>2023-05-04</td>\n",
       "      <td>503,000,000</td>\n",
       "    </tr>\n",
       "  </tbody>\n",
       "</table>\n",
       "</div>"
      ],
      "text/plain": [
       "                                 Title Available Globally? Release Date  \\\n",
       "0            The Night Agent: Season 1                 Yes   2023-03-23   \n",
       "1            Ginny & Georgia: Season 2                 Yes   2023-01-05   \n",
       "2   The Glory: Season 1 // 더 글로리: 시즌 1                 Yes   2022-12-30   \n",
       "3                  Wednesday: Season 1                 Yes   2022-11-23   \n",
       "4  Queen Charlotte: A Bridgerton Story                 Yes   2023-05-04   \n",
       "\n",
       "  Hours Viewed  \n",
       "0  812,100,000  \n",
       "1  665,100,000  \n",
       "2  622,800,000  \n",
       "3  507,700,000  \n",
       "4  503,000,000  "
      ]
     },
     "execution_count": 40,
     "metadata": {},
     "output_type": "execute_result"
    }
   ],
   "source": [
    "df = pd.read_csv('./What_We_Watched_A_Netflix_Engagement_Report_2023Jan-Jun.csv')\n",
    "df.head()"
   ]
  },
  {
   "cell_type": "markdown",
   "metadata": {},
   "source": [
    "## Cleaning dataset "
   ]
  },
  {
   "cell_type": "markdown",
   "metadata": {},
   "source": [
    "### Cleaning \": Season #\" endings "
   ]
  },
  {
   "cell_type": "code",
   "execution_count": 36,
   "metadata": {},
   "outputs": [],
   "source": [
    "import re\n",
    "def clean_title(title):\n",
    "    # Regular expression to find \": season #\" and remove it\n",
    "    new_title = re.sub(r':\\s*season\\s*\\d+|:\\s*chapter(\\s*\\d+(-\\d+)?)?|:\\s*volume\\s*\\d+|//\\s*.*?($|\\n)', '', title, flags=re.IGNORECASE)\n",
    "    return new_title"
   ]
  },
  {
   "cell_type": "code",
   "execution_count": 41,
   "metadata": {},
   "outputs": [
    {
     "data": {
      "text/html": [
       "<div>\n",
       "<style scoped>\n",
       "    .dataframe tbody tr th:only-of-type {\n",
       "        vertical-align: middle;\n",
       "    }\n",
       "\n",
       "    .dataframe tbody tr th {\n",
       "        vertical-align: top;\n",
       "    }\n",
       "\n",
       "    .dataframe thead th {\n",
       "        text-align: right;\n",
       "    }\n",
       "</style>\n",
       "<table border=\"1\" class=\"dataframe\">\n",
       "  <thead>\n",
       "    <tr style=\"text-align: right;\">\n",
       "      <th></th>\n",
       "      <th>Title</th>\n",
       "      <th>Available Globally?</th>\n",
       "      <th>Release Date</th>\n",
       "      <th>Hours Viewed</th>\n",
       "    </tr>\n",
       "  </thead>\n",
       "  <tbody>\n",
       "    <tr>\n",
       "      <th>0</th>\n",
       "      <td>The Night Agent</td>\n",
       "      <td>Yes</td>\n",
       "      <td>2023-03-23</td>\n",
       "      <td>812,100,000</td>\n",
       "    </tr>\n",
       "    <tr>\n",
       "      <th>1</th>\n",
       "      <td>Ginny &amp; Georgia</td>\n",
       "      <td>Yes</td>\n",
       "      <td>2023-01-05</td>\n",
       "      <td>665,100,000</td>\n",
       "    </tr>\n",
       "    <tr>\n",
       "      <th>2</th>\n",
       "      <td>The Glory</td>\n",
       "      <td>Yes</td>\n",
       "      <td>2022-12-30</td>\n",
       "      <td>622,800,000</td>\n",
       "    </tr>\n",
       "    <tr>\n",
       "      <th>3</th>\n",
       "      <td>Wednesday</td>\n",
       "      <td>Yes</td>\n",
       "      <td>2022-11-23</td>\n",
       "      <td>507,700,000</td>\n",
       "    </tr>\n",
       "    <tr>\n",
       "      <th>4</th>\n",
       "      <td>Queen Charlotte: A Bridgerton Story</td>\n",
       "      <td>Yes</td>\n",
       "      <td>2023-05-04</td>\n",
       "      <td>503,000,000</td>\n",
       "    </tr>\n",
       "  </tbody>\n",
       "</table>\n",
       "</div>"
      ],
      "text/plain": [
       "                                 Title Available Globally? Release Date  \\\n",
       "0                      The Night Agent                 Yes   2023-03-23   \n",
       "1                      Ginny & Georgia                 Yes   2023-01-05   \n",
       "2                           The Glory                  Yes   2022-12-30   \n",
       "3                            Wednesday                 Yes   2022-11-23   \n",
       "4  Queen Charlotte: A Bridgerton Story                 Yes   2023-05-04   \n",
       "\n",
       "  Hours Viewed  \n",
       "0  812,100,000  \n",
       "1  665,100,000  \n",
       "2  622,800,000  \n",
       "3  507,700,000  \n",
       "4  503,000,000  "
      ]
     },
     "execution_count": 41,
     "metadata": {},
     "output_type": "execute_result"
    }
   ],
   "source": [
    "df['Title'] = df['Title'].apply(clean_title)\n",
    "df.head()"
   ]
  },
  {
   "cell_type": "markdown",
   "metadata": {},
   "source": []
  },
  {
   "cell_type": "code",
   "execution_count": 38,
   "metadata": {},
   "outputs": [],
   "source": [
    "df.to_csv('./result1.csv', index=False)"
   ]
  },
  {
   "cell_type": "markdown",
   "metadata": {},
   "source": [
    "## Enriched dataset "
   ]
  },
  {
   "cell_type": "code",
   "execution_count": 1,
   "metadata": {},
   "outputs": [],
   "source": [
    "import pandas as pd\n",
    "import numpy as np\n",
    "import matplotlib.pyplot as plt\n",
    "import os"
   ]
  },
  {
   "cell_type": "markdown",
   "metadata": {},
   "source": [
    "API communication has done for collecting additional information on each movie title throygh OMDB API Key. "
   ]
  },
  {
   "cell_type": "code",
   "execution_count": 2,
   "metadata": {},
   "outputs": [
    {
     "data": {
      "text/html": [
       "<div>\n",
       "<style scoped>\n",
       "    .dataframe tbody tr th:only-of-type {\n",
       "        vertical-align: middle;\n",
       "    }\n",
       "\n",
       "    .dataframe tbody tr th {\n",
       "        vertical-align: top;\n",
       "    }\n",
       "\n",
       "    .dataframe thead th {\n",
       "        text-align: right;\n",
       "    }\n",
       "</style>\n",
       "<table border=\"1\" class=\"dataframe\">\n",
       "  <thead>\n",
       "    <tr style=\"text-align: right;\">\n",
       "      <th></th>\n",
       "      <th>Title</th>\n",
       "      <th>Available Globally?</th>\n",
       "      <th>Release Date</th>\n",
       "      <th>Hours Viewed</th>\n",
       "      <th>Year</th>\n",
       "      <th>Rated</th>\n",
       "      <th>Released</th>\n",
       "      <th>Runtime</th>\n",
       "      <th>Genre</th>\n",
       "      <th>Director</th>\n",
       "      <th>...</th>\n",
       "      <th>Awards</th>\n",
       "      <th>Poster</th>\n",
       "      <th>Ratings</th>\n",
       "      <th>Metascore</th>\n",
       "      <th>imdbRating</th>\n",
       "      <th>imdbVotes</th>\n",
       "      <th>imdbID</th>\n",
       "      <th>Type</th>\n",
       "      <th>totalSeasons</th>\n",
       "      <th>Response</th>\n",
       "    </tr>\n",
       "  </thead>\n",
       "  <tbody>\n",
       "    <tr>\n",
       "      <th>0</th>\n",
       "      <td>The Night Agent</td>\n",
       "      <td>Yes</td>\n",
       "      <td>2023-03-23</td>\n",
       "      <td>812,100,000</td>\n",
       "      <td>2023–</td>\n",
       "      <td>TV-MA</td>\n",
       "      <td>23 Mar 2023</td>\n",
       "      <td>NaN</td>\n",
       "      <td>Action, Drama, Thriller</td>\n",
       "      <td>NaN</td>\n",
       "      <td>...</td>\n",
       "      <td>2 nominations</td>\n",
       "      <td>https://m.media-amazon.com/images/M/MV5BODgzYm...</td>\n",
       "      <td>[{'Source': 'Internet Movie Database', 'Value'...</td>\n",
       "      <td>NaN</td>\n",
       "      <td>7.5</td>\n",
       "      <td>99,566</td>\n",
       "      <td>tt13918776</td>\n",
       "      <td>series</td>\n",
       "      <td>2.0</td>\n",
       "      <td>True</td>\n",
       "    </tr>\n",
       "    <tr>\n",
       "      <th>1</th>\n",
       "      <td>Ginny &amp; Georgia</td>\n",
       "      <td>Yes</td>\n",
       "      <td>2023-01-05</td>\n",
       "      <td>665,100,000</td>\n",
       "      <td>2021–</td>\n",
       "      <td>TV-14</td>\n",
       "      <td>24 Feb 2021</td>\n",
       "      <td>NaN</td>\n",
       "      <td>Comedy, Drama</td>\n",
       "      <td>NaN</td>\n",
       "      <td>...</td>\n",
       "      <td>Nominated for 1 Primetime Emmy. 3 wins &amp; 6 nom...</td>\n",
       "      <td>https://m.media-amazon.com/images/M/MV5BNmE3Mj...</td>\n",
       "      <td>[{'Source': 'Internet Movie Database', 'Value'...</td>\n",
       "      <td>NaN</td>\n",
       "      <td>7.5</td>\n",
       "      <td>77,563</td>\n",
       "      <td>tt10813940</td>\n",
       "      <td>series</td>\n",
       "      <td>2.0</td>\n",
       "      <td>True</td>\n",
       "    </tr>\n",
       "    <tr>\n",
       "      <th>2</th>\n",
       "      <td>The Glory</td>\n",
       "      <td>Yes</td>\n",
       "      <td>2022-12-30</td>\n",
       "      <td>622,800,000</td>\n",
       "      <td>2022–</td>\n",
       "      <td>TV-MA</td>\n",
       "      <td>30 Dec 2022</td>\n",
       "      <td>NaN</td>\n",
       "      <td>Drama, Mystery, Thriller</td>\n",
       "      <td>NaN</td>\n",
       "      <td>...</td>\n",
       "      <td>4 wins &amp; 1 nomination</td>\n",
       "      <td>https://m.media-amazon.com/images/M/MV5BMjdlNW...</td>\n",
       "      <td>[{'Source': 'Internet Movie Database', 'Value'...</td>\n",
       "      <td>NaN</td>\n",
       "      <td>8.1</td>\n",
       "      <td>24,846</td>\n",
       "      <td>tt21344706</td>\n",
       "      <td>series</td>\n",
       "      <td>1.0</td>\n",
       "      <td>True</td>\n",
       "    </tr>\n",
       "    <tr>\n",
       "      <th>3</th>\n",
       "      <td>Wednesday</td>\n",
       "      <td>Yes</td>\n",
       "      <td>2022-11-23</td>\n",
       "      <td>507,700,000</td>\n",
       "      <td>2022–</td>\n",
       "      <td>TV-14</td>\n",
       "      <td>23 Nov 2022</td>\n",
       "      <td>NaN</td>\n",
       "      <td>Comedy, Crime, Fantasy</td>\n",
       "      <td>NaN</td>\n",
       "      <td>...</td>\n",
       "      <td>Nominated for 12 Primetime Emmys. 13 wins &amp; 59...</td>\n",
       "      <td>https://m.media-amazon.com/images/M/MV5BM2ZmMj...</td>\n",
       "      <td>[{'Source': 'Internet Movie Database', 'Value'...</td>\n",
       "      <td>NaN</td>\n",
       "      <td>8.1</td>\n",
       "      <td>342,661</td>\n",
       "      <td>tt13443470</td>\n",
       "      <td>series</td>\n",
       "      <td>2.0</td>\n",
       "      <td>True</td>\n",
       "    </tr>\n",
       "    <tr>\n",
       "      <th>4</th>\n",
       "      <td>Queen Charlotte: A Bridgerton Story</td>\n",
       "      <td>Yes</td>\n",
       "      <td>2023-05-04</td>\n",
       "      <td>503,000,000</td>\n",
       "      <td>2023</td>\n",
       "      <td>TV-MA</td>\n",
       "      <td>04 May 2023</td>\n",
       "      <td>NaN</td>\n",
       "      <td>Drama, History, Romance</td>\n",
       "      <td>NaN</td>\n",
       "      <td>...</td>\n",
       "      <td>Nominated for 3 Primetime Emmys. 4 wins &amp; 15 n...</td>\n",
       "      <td>https://m.media-amazon.com/images/M/MV5BNWYwNz...</td>\n",
       "      <td>[{'Source': 'Internet Movie Database', 'Value'...</td>\n",
       "      <td>NaN</td>\n",
       "      <td>7.4</td>\n",
       "      <td>50,245</td>\n",
       "      <td>tt14661396</td>\n",
       "      <td>series</td>\n",
       "      <td>1.0</td>\n",
       "      <td>True</td>\n",
       "    </tr>\n",
       "  </tbody>\n",
       "</table>\n",
       "<p>5 rows × 25 columns</p>\n",
       "</div>"
      ],
      "text/plain": [
       "                                 Title Available Globally? Release Date  \\\n",
       "0                      The Night Agent                 Yes   2023-03-23   \n",
       "1                      Ginny & Georgia                 Yes   2023-01-05   \n",
       "2                           The Glory                  Yes   2022-12-30   \n",
       "3                            Wednesday                 Yes   2022-11-23   \n",
       "4  Queen Charlotte: A Bridgerton Story                 Yes   2023-05-04   \n",
       "\n",
       "  Hours Viewed   Year  Rated     Released Runtime                     Genre  \\\n",
       "0  812,100,000  2023–  TV-MA  23 Mar 2023     NaN   Action, Drama, Thriller   \n",
       "1  665,100,000  2021–  TV-14  24 Feb 2021     NaN             Comedy, Drama   \n",
       "2  622,800,000  2022–  TV-MA  30 Dec 2022     NaN  Drama, Mystery, Thriller   \n",
       "3  507,700,000  2022–  TV-14  23 Nov 2022     NaN    Comedy, Crime, Fantasy   \n",
       "4  503,000,000   2023  TV-MA  04 May 2023     NaN   Drama, History, Romance   \n",
       "\n",
       "  Director  ...                                             Awards  \\\n",
       "0      NaN  ...                                      2 nominations   \n",
       "1      NaN  ...  Nominated for 1 Primetime Emmy. 3 wins & 6 nom...   \n",
       "2      NaN  ...                              4 wins & 1 nomination   \n",
       "3      NaN  ...  Nominated for 12 Primetime Emmys. 13 wins & 59...   \n",
       "4      NaN  ...  Nominated for 3 Primetime Emmys. 4 wins & 15 n...   \n",
       "\n",
       "                                              Poster  \\\n",
       "0  https://m.media-amazon.com/images/M/MV5BODgzYm...   \n",
       "1  https://m.media-amazon.com/images/M/MV5BNmE3Mj...   \n",
       "2  https://m.media-amazon.com/images/M/MV5BMjdlNW...   \n",
       "3  https://m.media-amazon.com/images/M/MV5BM2ZmMj...   \n",
       "4  https://m.media-amazon.com/images/M/MV5BNWYwNz...   \n",
       "\n",
       "                                             Ratings Metascore imdbRating  \\\n",
       "0  [{'Source': 'Internet Movie Database', 'Value'...       NaN        7.5   \n",
       "1  [{'Source': 'Internet Movie Database', 'Value'...       NaN        7.5   \n",
       "2  [{'Source': 'Internet Movie Database', 'Value'...       NaN        8.1   \n",
       "3  [{'Source': 'Internet Movie Database', 'Value'...       NaN        8.1   \n",
       "4  [{'Source': 'Internet Movie Database', 'Value'...       NaN        7.4   \n",
       "\n",
       "  imdbVotes      imdbID    Type  totalSeasons  Response  \n",
       "0    99,566  tt13918776  series           2.0      True  \n",
       "1    77,563  tt10813940  series           2.0      True  \n",
       "2    24,846  tt21344706  series           1.0      True  \n",
       "3   342,661  tt13443470  series           2.0      True  \n",
       "4    50,245  tt14661396  series           1.0      True  \n",
       "\n",
       "[5 rows x 25 columns]"
      ]
     },
     "execution_count": 2,
     "metadata": {},
     "output_type": "execute_result"
    }
   ],
   "source": [
    "df = pd.read_csv('./data_enriched.csv')\n",
    "df.head()"
   ]
  },
  {
   "cell_type": "code",
   "execution_count": 3,
   "metadata": {},
   "outputs": [
    {
     "name": "stdout",
     "output_type": "stream",
     "text": [
      "<class 'pandas.core.frame.DataFrame'>\n",
      "RangeIndex: 18214 entries, 0 to 18213\n",
      "Data columns (total 25 columns):\n",
      " #   Column               Non-Null Count  Dtype  \n",
      "---  ------               --------------  -----  \n",
      " 0   Title                18214 non-null  object \n",
      " 1   Available Globally?  18214 non-null  object \n",
      " 2   Release Date         4855 non-null   object \n",
      " 3   Hours Viewed         18214 non-null  object \n",
      " 4   Year                 13308 non-null  object \n",
      " 5   Rated                9052 non-null   object \n",
      " 6   Released             13065 non-null  object \n",
      " 7   Runtime              11689 non-null  object \n",
      " 8   Genre                13143 non-null  object \n",
      " 9   Director             8446 non-null   object \n",
      " 10  Writer               10288 non-null  object \n",
      " 11  Actors               12955 non-null  object \n",
      " 12  Plot                 12838 non-null  object \n",
      " 13  Language             12942 non-null  object \n",
      " 14  Country              13012 non-null  object \n",
      " 15  Awards               8543 non-null   object \n",
      " 16  Poster               12983 non-null  object \n",
      " 17  Ratings              13308 non-null  object \n",
      " 18  Metascore            3249 non-null   float64\n",
      " 19  imdbRating           12525 non-null  float64\n",
      " 20  imdbVotes            12846 non-null  object \n",
      " 21  imdbID               13308 non-null  object \n",
      " 22  Type                 13308 non-null  object \n",
      " 23  totalSeasons         4333 non-null   float64\n",
      " 24  Response             13308 non-null  object \n",
      "dtypes: float64(3), object(22)\n",
      "memory usage: 3.5+ MB\n"
     ]
    }
   ],
   "source": [
    "df.info()"
   ]
  },
  {
   "cell_type": "markdown",
   "metadata": {},
   "source": [
    "### Feature Extraction\n",
    "extracting all features which we need for the model"
   ]
  },
  {
   "cell_type": "code",
   "execution_count": 4,
   "metadata": {},
   "outputs": [
    {
     "data": {
      "text/html": [
       "<div>\n",
       "<style scoped>\n",
       "    .dataframe tbody tr th:only-of-type {\n",
       "        vertical-align: middle;\n",
       "    }\n",
       "\n",
       "    .dataframe tbody tr th {\n",
       "        vertical-align: top;\n",
       "    }\n",
       "\n",
       "    .dataframe thead th {\n",
       "        text-align: right;\n",
       "    }\n",
       "</style>\n",
       "<table border=\"1\" class=\"dataframe\">\n",
       "  <thead>\n",
       "    <tr style=\"text-align: right;\">\n",
       "      <th></th>\n",
       "      <th>Title</th>\n",
       "      <th>Available Globally?</th>\n",
       "      <th>Hours Viewed</th>\n",
       "      <th>Released</th>\n",
       "      <th>Runtime</th>\n",
       "      <th>Genre</th>\n",
       "      <th>Language</th>\n",
       "      <th>Country</th>\n",
       "      <th>imdbRating</th>\n",
       "      <th>Type</th>\n",
       "      <th>totalSeasons</th>\n",
       "    </tr>\n",
       "  </thead>\n",
       "  <tbody>\n",
       "    <tr>\n",
       "      <th>0</th>\n",
       "      <td>The Night Agent</td>\n",
       "      <td>Yes</td>\n",
       "      <td>812,100,000</td>\n",
       "      <td>23 Mar 2023</td>\n",
       "      <td>NaN</td>\n",
       "      <td>Action, Drama, Thriller</td>\n",
       "      <td>English</td>\n",
       "      <td>United States</td>\n",
       "      <td>7.5</td>\n",
       "      <td>series</td>\n",
       "      <td>2.0</td>\n",
       "    </tr>\n",
       "    <tr>\n",
       "      <th>1</th>\n",
       "      <td>Ginny &amp; Georgia</td>\n",
       "      <td>Yes</td>\n",
       "      <td>665,100,000</td>\n",
       "      <td>24 Feb 2021</td>\n",
       "      <td>NaN</td>\n",
       "      <td>Comedy, Drama</td>\n",
       "      <td>English</td>\n",
       "      <td>United States</td>\n",
       "      <td>7.5</td>\n",
       "      <td>series</td>\n",
       "      <td>2.0</td>\n",
       "    </tr>\n",
       "    <tr>\n",
       "      <th>2</th>\n",
       "      <td>The Glory</td>\n",
       "      <td>Yes</td>\n",
       "      <td>622,800,000</td>\n",
       "      <td>30 Dec 2022</td>\n",
       "      <td>NaN</td>\n",
       "      <td>Drama, Mystery, Thriller</td>\n",
       "      <td>Korean</td>\n",
       "      <td>South Korea</td>\n",
       "      <td>8.1</td>\n",
       "      <td>series</td>\n",
       "      <td>1.0</td>\n",
       "    </tr>\n",
       "    <tr>\n",
       "      <th>3</th>\n",
       "      <td>Wednesday</td>\n",
       "      <td>Yes</td>\n",
       "      <td>507,700,000</td>\n",
       "      <td>23 Nov 2022</td>\n",
       "      <td>NaN</td>\n",
       "      <td>Comedy, Crime, Fantasy</td>\n",
       "      <td>English</td>\n",
       "      <td>United States</td>\n",
       "      <td>8.1</td>\n",
       "      <td>series</td>\n",
       "      <td>2.0</td>\n",
       "    </tr>\n",
       "    <tr>\n",
       "      <th>4</th>\n",
       "      <td>Queen Charlotte: A Bridgerton Story</td>\n",
       "      <td>Yes</td>\n",
       "      <td>503,000,000</td>\n",
       "      <td>04 May 2023</td>\n",
       "      <td>NaN</td>\n",
       "      <td>Drama, History, Romance</td>\n",
       "      <td>English</td>\n",
       "      <td>United States</td>\n",
       "      <td>7.4</td>\n",
       "      <td>series</td>\n",
       "      <td>1.0</td>\n",
       "    </tr>\n",
       "  </tbody>\n",
       "</table>\n",
       "</div>"
      ],
      "text/plain": [
       "                                 Title Available Globally? Hours Viewed  \\\n",
       "0                      The Night Agent                 Yes  812,100,000   \n",
       "1                      Ginny & Georgia                 Yes  665,100,000   \n",
       "2                           The Glory                  Yes  622,800,000   \n",
       "3                            Wednesday                 Yes  507,700,000   \n",
       "4  Queen Charlotte: A Bridgerton Story                 Yes  503,000,000   \n",
       "\n",
       "      Released Runtime                     Genre Language        Country  \\\n",
       "0  23 Mar 2023     NaN   Action, Drama, Thriller  English  United States   \n",
       "1  24 Feb 2021     NaN             Comedy, Drama  English  United States   \n",
       "2  30 Dec 2022     NaN  Drama, Mystery, Thriller   Korean    South Korea   \n",
       "3  23 Nov 2022     NaN    Comedy, Crime, Fantasy  English  United States   \n",
       "4  04 May 2023     NaN   Drama, History, Romance  English  United States   \n",
       "\n",
       "   imdbRating    Type  totalSeasons  \n",
       "0         7.5  series           2.0  \n",
       "1         7.5  series           2.0  \n",
       "2         8.1  series           1.0  \n",
       "3         8.1  series           2.0  \n",
       "4         7.4  series           1.0  "
      ]
     },
     "execution_count": 4,
     "metadata": {},
     "output_type": "execute_result"
    }
   ],
   "source": [
    "training_df = df[['Title', 'Available Globally?', 'Hours Viewed', 'Released', 'Runtime', 'Genre', 'Language', 'Country', 'imdbRating', 'Type', 'totalSeasons', ]]\n",
    "training_df.head()"
   ]
  },
  {
   "cell_type": "code",
   "execution_count": 5,
   "metadata": {},
   "outputs": [
    {
     "name": "stdout",
     "output_type": "stream",
     "text": [
      "<class 'pandas.core.frame.DataFrame'>\n",
      "RangeIndex: 18214 entries, 0 to 18213\n",
      "Data columns (total 11 columns):\n",
      " #   Column               Non-Null Count  Dtype  \n",
      "---  ------               --------------  -----  \n",
      " 0   Title                18214 non-null  object \n",
      " 1   Available Globally?  18214 non-null  object \n",
      " 2   Hours Viewed         18214 non-null  object \n",
      " 3   Released             13065 non-null  object \n",
      " 4   Runtime              11689 non-null  object \n",
      " 5   Genre                13143 non-null  object \n",
      " 6   Language             12942 non-null  object \n",
      " 7   Country              13012 non-null  object \n",
      " 8   imdbRating           12525 non-null  float64\n",
      " 9   Type                 13308 non-null  object \n",
      " 10  totalSeasons         4333 non-null   float64\n",
      "dtypes: float64(2), object(9)\n",
      "memory usage: 1.5+ MB\n"
     ]
    }
   ],
   "source": [
    "training_df.info()"
   ]
  },
  {
   "cell_type": "markdown",
   "metadata": {},
   "source": [
    "## Data Cleaning\n",
    "Cleaning all rows and solve all null values"
   ]
  },
  {
   "cell_type": "code",
   "execution_count": 6,
   "metadata": {},
   "outputs": [
    {
     "data": {
      "text/html": [
       "<div>\n",
       "<style scoped>\n",
       "    .dataframe tbody tr th:only-of-type {\n",
       "        vertical-align: middle;\n",
       "    }\n",
       "\n",
       "    .dataframe tbody tr th {\n",
       "        vertical-align: top;\n",
       "    }\n",
       "\n",
       "    .dataframe thead th {\n",
       "        text-align: right;\n",
       "    }\n",
       "</style>\n",
       "<table border=\"1\" class=\"dataframe\">\n",
       "  <thead>\n",
       "    <tr style=\"text-align: right;\">\n",
       "      <th></th>\n",
       "      <th>movie_title</th>\n",
       "      <th>available_globally</th>\n",
       "      <th>viewing_hours</th>\n",
       "      <th>release_date</th>\n",
       "      <th>Runtime</th>\n",
       "      <th>genre</th>\n",
       "      <th>language</th>\n",
       "      <th>country</th>\n",
       "      <th>imdb_rating</th>\n",
       "      <th>type</th>\n",
       "      <th>total_seasons</th>\n",
       "    </tr>\n",
       "  </thead>\n",
       "  <tbody>\n",
       "    <tr>\n",
       "      <th>0</th>\n",
       "      <td>The Night Agent</td>\n",
       "      <td>Yes</td>\n",
       "      <td>812,100,000</td>\n",
       "      <td>23 Mar 2023</td>\n",
       "      <td>NaN</td>\n",
       "      <td>Action, Drama, Thriller</td>\n",
       "      <td>English</td>\n",
       "      <td>United States</td>\n",
       "      <td>7.5</td>\n",
       "      <td>series</td>\n",
       "      <td>2.0</td>\n",
       "    </tr>\n",
       "    <tr>\n",
       "      <th>1</th>\n",
       "      <td>Ginny &amp; Georgia</td>\n",
       "      <td>Yes</td>\n",
       "      <td>665,100,000</td>\n",
       "      <td>24 Feb 2021</td>\n",
       "      <td>NaN</td>\n",
       "      <td>Comedy, Drama</td>\n",
       "      <td>English</td>\n",
       "      <td>United States</td>\n",
       "      <td>7.5</td>\n",
       "      <td>series</td>\n",
       "      <td>2.0</td>\n",
       "    </tr>\n",
       "    <tr>\n",
       "      <th>2</th>\n",
       "      <td>The Glory</td>\n",
       "      <td>Yes</td>\n",
       "      <td>622,800,000</td>\n",
       "      <td>30 Dec 2022</td>\n",
       "      <td>NaN</td>\n",
       "      <td>Drama, Mystery, Thriller</td>\n",
       "      <td>Korean</td>\n",
       "      <td>South Korea</td>\n",
       "      <td>8.1</td>\n",
       "      <td>series</td>\n",
       "      <td>1.0</td>\n",
       "    </tr>\n",
       "    <tr>\n",
       "      <th>3</th>\n",
       "      <td>Wednesday</td>\n",
       "      <td>Yes</td>\n",
       "      <td>507,700,000</td>\n",
       "      <td>23 Nov 2022</td>\n",
       "      <td>NaN</td>\n",
       "      <td>Comedy, Crime, Fantasy</td>\n",
       "      <td>English</td>\n",
       "      <td>United States</td>\n",
       "      <td>8.1</td>\n",
       "      <td>series</td>\n",
       "      <td>2.0</td>\n",
       "    </tr>\n",
       "    <tr>\n",
       "      <th>4</th>\n",
       "      <td>Queen Charlotte: A Bridgerton Story</td>\n",
       "      <td>Yes</td>\n",
       "      <td>503,000,000</td>\n",
       "      <td>04 May 2023</td>\n",
       "      <td>NaN</td>\n",
       "      <td>Drama, History, Romance</td>\n",
       "      <td>English</td>\n",
       "      <td>United States</td>\n",
       "      <td>7.4</td>\n",
       "      <td>series</td>\n",
       "      <td>1.0</td>\n",
       "    </tr>\n",
       "  </tbody>\n",
       "</table>\n",
       "</div>"
      ],
      "text/plain": [
       "                           movie_title available_globally viewing_hours  \\\n",
       "0                      The Night Agent                Yes   812,100,000   \n",
       "1                      Ginny & Georgia                Yes   665,100,000   \n",
       "2                           The Glory                 Yes   622,800,000   \n",
       "3                            Wednesday                Yes   507,700,000   \n",
       "4  Queen Charlotte: A Bridgerton Story                Yes   503,000,000   \n",
       "\n",
       "  release_date Runtime                     genre language        country  \\\n",
       "0  23 Mar 2023     NaN   Action, Drama, Thriller  English  United States   \n",
       "1  24 Feb 2021     NaN             Comedy, Drama  English  United States   \n",
       "2  30 Dec 2022     NaN  Drama, Mystery, Thriller   Korean    South Korea   \n",
       "3  23 Nov 2022     NaN    Comedy, Crime, Fantasy  English  United States   \n",
       "4  04 May 2023     NaN   Drama, History, Romance  English  United States   \n",
       "\n",
       "   imdb_rating    type  total_seasons  \n",
       "0          7.5  series            2.0  \n",
       "1          7.5  series            2.0  \n",
       "2          8.1  series            1.0  \n",
       "3          8.1  series            2.0  \n",
       "4          7.4  series            1.0  "
      ]
     },
     "execution_count": 6,
     "metadata": {},
     "output_type": "execute_result"
    }
   ],
   "source": [
    "new_column_names = {'Title': 'movie_title',\n",
    "                    'Available Globally?': 'available_globally',\n",
    "                    'Hours Viewed': 'viewing_hours', 'Released': 'release_date',' Runtime': 'runtime','Genre': 'genre','Language': 'language','Country': 'country','imdbRating': 'imdb_rating','Type': 'type','totalSeasons': 'total_seasons'}\n",
    "\n",
    "training_df = training_df.rename(columns=new_column_names)\n",
    "# training_df = training_df.rename(columns={'viewing_time': 'viewing_hours'})\n",
    "training_df.head()"
   ]
  },
  {
   "cell_type": "code",
   "execution_count": 7,
   "metadata": {},
   "outputs": [
    {
     "name": "stdout",
     "output_type": "stream",
     "text": [
      "<class 'pandas.core.frame.DataFrame'>\n",
      "RangeIndex: 18214 entries, 0 to 18213\n",
      "Data columns (total 11 columns):\n",
      " #   Column              Non-Null Count  Dtype  \n",
      "---  ------              --------------  -----  \n",
      " 0   movie_title         18214 non-null  object \n",
      " 1   available_globally  18214 non-null  object \n",
      " 2   viewing_hours       18214 non-null  object \n",
      " 3   release_date        13065 non-null  object \n",
      " 4   Runtime             11689 non-null  object \n",
      " 5   genre               13143 non-null  object \n",
      " 6   language            12942 non-null  object \n",
      " 7   country             13012 non-null  object \n",
      " 8   imdb_rating         12525 non-null  float64\n",
      " 9   type                13308 non-null  object \n",
      " 10  total_seasons       4333 non-null   float64\n",
      "dtypes: float64(2), object(9)\n",
      "memory usage: 1.5+ MB\n"
     ]
    }
   ],
   "source": [
    "training_df.info()"
   ]
  },
  {
   "cell_type": "code",
   "execution_count": 8,
   "metadata": {},
   "outputs": [
    {
     "data": {
      "text/plain": [
       "movie_title               0\n",
       "available_globally        0\n",
       "viewing_hours             0\n",
       "release_date           5149\n",
       "Runtime                6525\n",
       "genre                  5071\n",
       "language               5272\n",
       "country                5202\n",
       "imdb_rating            5689\n",
       "type                   4906\n",
       "total_seasons         13881\n",
       "dtype: int64"
      ]
     },
     "execution_count": 8,
     "metadata": {},
     "output_type": "execute_result"
    }
   ],
   "source": [
    "training_df.isnull().sum()"
   ]
  },
  {
   "cell_type": "markdown",
   "metadata": {},
   "source": [
    "### available_globaly"
   ]
  },
  {
   "cell_type": "markdown",
   "metadata": {},
   "source": [
    "Converting Yes/No to binary numbers 1/0"
   ]
  },
  {
   "cell_type": "code",
   "execution_count": 9,
   "metadata": {},
   "outputs": [],
   "source": [
    "training_df['available_globally'] = training_df['available_globally'].map({'Yes': 1, 'No': 0})"
   ]
  },
  {
   "cell_type": "code",
   "execution_count": 10,
   "metadata": {},
   "outputs": [
    {
     "data": {
      "text/html": [
       "<div>\n",
       "<style scoped>\n",
       "    .dataframe tbody tr th:only-of-type {\n",
       "        vertical-align: middle;\n",
       "    }\n",
       "\n",
       "    .dataframe tbody tr th {\n",
       "        vertical-align: top;\n",
       "    }\n",
       "\n",
       "    .dataframe thead th {\n",
       "        text-align: right;\n",
       "    }\n",
       "</style>\n",
       "<table border=\"1\" class=\"dataframe\">\n",
       "  <thead>\n",
       "    <tr style=\"text-align: right;\">\n",
       "      <th></th>\n",
       "      <th>movie_title</th>\n",
       "      <th>available_globally</th>\n",
       "      <th>viewing_hours</th>\n",
       "      <th>release_date</th>\n",
       "      <th>Runtime</th>\n",
       "      <th>genre</th>\n",
       "      <th>language</th>\n",
       "      <th>country</th>\n",
       "      <th>imdb_rating</th>\n",
       "      <th>type</th>\n",
       "      <th>total_seasons</th>\n",
       "    </tr>\n",
       "  </thead>\n",
       "  <tbody>\n",
       "    <tr>\n",
       "      <th>0</th>\n",
       "      <td>The Night Agent</td>\n",
       "      <td>1</td>\n",
       "      <td>812,100,000</td>\n",
       "      <td>23 Mar 2023</td>\n",
       "      <td>NaN</td>\n",
       "      <td>Action, Drama, Thriller</td>\n",
       "      <td>English</td>\n",
       "      <td>United States</td>\n",
       "      <td>7.5</td>\n",
       "      <td>series</td>\n",
       "      <td>2.0</td>\n",
       "    </tr>\n",
       "    <tr>\n",
       "      <th>1</th>\n",
       "      <td>Ginny &amp; Georgia</td>\n",
       "      <td>1</td>\n",
       "      <td>665,100,000</td>\n",
       "      <td>24 Feb 2021</td>\n",
       "      <td>NaN</td>\n",
       "      <td>Comedy, Drama</td>\n",
       "      <td>English</td>\n",
       "      <td>United States</td>\n",
       "      <td>7.5</td>\n",
       "      <td>series</td>\n",
       "      <td>2.0</td>\n",
       "    </tr>\n",
       "    <tr>\n",
       "      <th>2</th>\n",
       "      <td>The Glory</td>\n",
       "      <td>1</td>\n",
       "      <td>622,800,000</td>\n",
       "      <td>30 Dec 2022</td>\n",
       "      <td>NaN</td>\n",
       "      <td>Drama, Mystery, Thriller</td>\n",
       "      <td>Korean</td>\n",
       "      <td>South Korea</td>\n",
       "      <td>8.1</td>\n",
       "      <td>series</td>\n",
       "      <td>1.0</td>\n",
       "    </tr>\n",
       "    <tr>\n",
       "      <th>3</th>\n",
       "      <td>Wednesday</td>\n",
       "      <td>1</td>\n",
       "      <td>507,700,000</td>\n",
       "      <td>23 Nov 2022</td>\n",
       "      <td>NaN</td>\n",
       "      <td>Comedy, Crime, Fantasy</td>\n",
       "      <td>English</td>\n",
       "      <td>United States</td>\n",
       "      <td>8.1</td>\n",
       "      <td>series</td>\n",
       "      <td>2.0</td>\n",
       "    </tr>\n",
       "    <tr>\n",
       "      <th>4</th>\n",
       "      <td>Queen Charlotte: A Bridgerton Story</td>\n",
       "      <td>1</td>\n",
       "      <td>503,000,000</td>\n",
       "      <td>04 May 2023</td>\n",
       "      <td>NaN</td>\n",
       "      <td>Drama, History, Romance</td>\n",
       "      <td>English</td>\n",
       "      <td>United States</td>\n",
       "      <td>7.4</td>\n",
       "      <td>series</td>\n",
       "      <td>1.0</td>\n",
       "    </tr>\n",
       "  </tbody>\n",
       "</table>\n",
       "</div>"
      ],
      "text/plain": [
       "                           movie_title  available_globally viewing_hours  \\\n",
       "0                      The Night Agent                   1   812,100,000   \n",
       "1                      Ginny & Georgia                   1   665,100,000   \n",
       "2                           The Glory                    1   622,800,000   \n",
       "3                            Wednesday                   1   507,700,000   \n",
       "4  Queen Charlotte: A Bridgerton Story                   1   503,000,000   \n",
       "\n",
       "  release_date Runtime                     genre language        country  \\\n",
       "0  23 Mar 2023     NaN   Action, Drama, Thriller  English  United States   \n",
       "1  24 Feb 2021     NaN             Comedy, Drama  English  United States   \n",
       "2  30 Dec 2022     NaN  Drama, Mystery, Thriller   Korean    South Korea   \n",
       "3  23 Nov 2022     NaN    Comedy, Crime, Fantasy  English  United States   \n",
       "4  04 May 2023     NaN   Drama, History, Romance  English  United States   \n",
       "\n",
       "   imdb_rating    type  total_seasons  \n",
       "0          7.5  series            2.0  \n",
       "1          7.5  series            2.0  \n",
       "2          8.1  series            1.0  \n",
       "3          8.1  series            2.0  \n",
       "4          7.4  series            1.0  "
      ]
     },
     "execution_count": 10,
     "metadata": {},
     "output_type": "execute_result"
    }
   ],
   "source": [
    "training_df.head()"
   ]
  },
  {
   "cell_type": "markdown",
   "metadata": {},
   "source": [
    "### viewing_hours"
   ]
  },
  {
   "cell_type": "markdown",
   "metadata": {},
   "source": [
    "Converting formatted string to the int numbers"
   ]
  },
  {
   "cell_type": "code",
   "execution_count": 11,
   "metadata": {},
   "outputs": [],
   "source": [
    "# Replace the commas and convert the column to integers\n",
    "training_df['viewing_hours'] = training_df['viewing_hours'].str.replace(',', '').astype(int)"
   ]
  },
  {
   "cell_type": "markdown",
   "metadata": {},
   "source": [
    "### release_date (release_month)\n",
    "Extracting months out of each release date to have release month instead, and converting string values to numbers"
   ]
  },
  {
   "cell_type": "code",
   "execution_count": 12,
   "metadata": {},
   "outputs": [],
   "source": [
    "# Convert the release_date column to datetime and extract the month directly\n",
    "training_df['release_date'] = pd.to_datetime(training_df['release_date'], errors='coerce', format='%d %b %Y').dt.month"
   ]
  },
  {
   "cell_type": "code",
   "execution_count": 13,
   "metadata": {},
   "outputs": [],
   "source": [
    "training_df.rename(columns={'release_date': 'release_month'}, inplace=True)"
   ]
  },
  {
   "cell_type": "markdown",
   "metadata": {},
   "source": [
    "Filling null values with median of the data"
   ]
  },
  {
   "cell_type": "code",
   "execution_count": 14,
   "metadata": {},
   "outputs": [],
   "source": [
    "# Impute with median\n",
    "median_month = training_df['release_month'].median()\n",
    "training_df['release_month'].fillna(median_month, inplace=True)"
   ]
  },
  {
   "cell_type": "code",
   "execution_count": 15,
   "metadata": {},
   "outputs": [],
   "source": [
    "training_df['release_month'] = training_df['release_month'].astype(int)"
   ]
  },
  {
   "cell_type": "markdown",
   "metadata": {},
   "source": [
    "### runtime \n",
    "cleaning, formating and null handeling"
   ]
  },
  {
   "cell_type": "code",
   "execution_count": 16,
   "metadata": {},
   "outputs": [],
   "source": [
    "training_df.rename(columns={'Runtime': 'runtime'}, inplace=True)"
   ]
  },
  {
   "cell_type": "code",
   "execution_count": 17,
   "metadata": {},
   "outputs": [],
   "source": [
    "# Use a regular expression to remove non-numeric characters (except NaN values)\n",
    "training_df['runtime'] = training_df['runtime'].str.extract('(\\d+)', expand=False)\n",
    "\n",
    "# Convert to numeric (Int64 to handle NaN)\n",
    "training_df['runtime'] = pd.to_numeric(training_df['runtime'], errors='coerce', downcast='integer')"
   ]
  },
  {
   "cell_type": "code",
   "execution_count": 18,
   "metadata": {},
   "outputs": [
    {
     "data": {
      "image/png": "[encoded data removed]",
      "text/plain": [
       "<Figure size 432x288 with 1 Axes>"
      ]
     },
     "metadata": {
      "needs_background": "light"
     },
     "output_type": "display_data"
    }
   ],
   "source": [
    "import matplotlib.pyplot as plt\n",
    "\n",
    "# Assuming 'runtime' column is already converted to numeric\n",
    "training_df['runtime'].dropna().hist(bins=50)\n",
    "plt.title('Runtime Distribution')\n",
    "plt.xlabel('Runtime')\n",
    "plt.ylabel('Frequency')\n",
    "plt.show()"
   ]
  },
  {
   "cell_type": "markdown",
   "metadata": {},
   "source": [
    "The histogram shows the runtime values are skewed to the right, as a resutl, choosing median for filling null values would be a better option. We take this strategy as follow: \n",
    "- take median for all titles which are 'movie' \n",
    "- take median for all titles which are 'series'\n",
    "- a global median for all titles which thier type is undefined "
   ]
  },
  {
   "cell_type": "code",
   "execution_count": 19,
   "metadata": {},
   "outputs": [],
   "source": [
    "# Filter out rows where either runtime or type is null\n",
    "runtime_type_df = training_df.dropna(subset=['runtime', 'type'])\n",
    "\n",
    "# Calculate median/mean runtime for movies and series\n",
    "median_runtime_movie = runtime_type_df[runtime_type_df['type'] == 'movie']['runtime'].median()\n",
    "median_runtime_series = runtime_type_df[runtime_type_df['type'] == 'series']['runtime'].median()\n",
    "mean_runtime_movie = runtime_type_df[runtime_type_df['type'] == 'movie']['runtime'].mean()\n",
    "mean_runtime_series = runtime_type_df[runtime_type_df['type'] == 'series']['runtime'].mean()"
   ]
  },
  {
   "cell_type": "code",
   "execution_count": 20,
   "metadata": {},
   "outputs": [],
   "source": [
    "# Function to impute runtime\n",
    "def impute_runtime(row):\n",
    "    if pd.isna(row['runtime']):\n",
    "        if row['type'] == 'movie':\n",
    "            return median_runtime_movie\n",
    "        elif row['type'] == 'series':\n",
    "            return median_runtime_series\n",
    "        else:\n",
    "            # Handle rows where both runtime and type are null\n",
    "            # You can choose to return a global median/mean or some other placeholder value\n",
    "            return global_median_runtime  # Or other logic\n",
    "    else:\n",
    "        return row['runtime']\n",
    "\n",
    "# Apply the function\n",
    "global_median_runtime = training_df['runtime'].median()  # Global median if both runtime and type are null\n",
    "training_df['runtime'] = training_df.apply(impute_runtime, axis=1)\n"
   ]
  },
  {
   "cell_type": "code",
   "execution_count": 21,
   "metadata": {},
   "outputs": [],
   "source": [
    "training_df['runtime'] = training_df['runtime'].astype(int)"
   ]
  },
  {
   "cell_type": "code",
   "execution_count": 22,
   "metadata": {},
   "outputs": [
    {
     "name": "stdout",
     "output_type": "stream",
     "text": [
      "global: 93.0\n",
      "movie: 102.0\n",
      "series: 30.0\n",
      "movie: 101.874715261959\n",
      "series: 35.691756272401435\n"
     ]
    }
   ],
   "source": [
    "print('global: ' + str(global_median_runtime))\n",
    "print('movie: ' + str(median_runtime_movie))\n",
    "print('series: ' + str(median_runtime_series))\n",
    "print('movie: ' + str(mean_runtime_movie))\n",
    "print('series: ' + str(mean_runtime_series))"
   ]
  },
  {
   "cell_type": "markdown",
   "metadata": {},
   "source": [
    "**Bining the runtime column**: Using bining, the categorizing different runtimes for better classification and ease of model usage. Normally, people dob't know how much exactly a motion picture would be in time, but usually have a estimation. \n",
    "\n",
    "- Short: less than 30 min (typically short episodes)\n",
    "- Medium: 30-60 min (typical TV episodes)\n",
    "- Medium Long: 60-90 min (long TV episods and short movies)\n",
    "- Feature Length: 90-120 min (standard movie length)\n",
    "- Long: more than 120 min (long movies or multiple episodes viewed consecutively)"
   ]
  },
  {
   "cell_type": "code",
   "execution_count": 23,
   "metadata": {},
   "outputs": [],
   "source": [
    "bins = [0, 30, 60, 90, 120, training_df['runtime'].max()]\n",
    "labels = ['Short', 'Medium', 'Medium Long','Feature Long', 'Long']\n",
    "\n",
    "runtime_col_index = training_df.columns.get_loc('runtime') + 1  # get the index and add 1\n",
    "runtime_categories = pd.cut(training_df['runtime'], bins=bins, labels=labels)\n",
    "training_df.insert(runtime_col_index, 'runtime_category', runtime_categories)"
   ]
  },
  {
   "cell_type": "markdown",
   "metadata": {},
   "source": [
    "### genre\n",
    "A title can be available in multiple genres"
   ]
  },
  {
   "cell_type": "markdown",
   "metadata": {},
   "source": [
    "Filling all null cells with \"Other\""
   ]
  },
  {
   "cell_type": "code",
   "execution_count": 24,
   "metadata": {},
   "outputs": [],
   "source": [
    "# Replace null values in 'genre' with a placeholder like 'Unknown'\n",
    "training_df['genre'].fillna('Unknown', inplace=True)\n",
    "training_df['language'].replace('N/A', 'Unknown', inplace=True)"
   ]
  },
  {
   "cell_type": "markdown",
   "metadata": {},
   "source": [
    "Extracting all available genres in the dataset"
   ]
  },
  {
   "cell_type": "code",
   "execution_count": 25,
   "metadata": {},
   "outputs": [
    {
     "name": "stdout",
     "output_type": "stream",
     "text": [
      "['Action', 'Documentary', 'Game-Show', 'Animation', 'Music', 'Talk-Show', 'Romance', 'Drama', 'Fantasy', 'Sport', 'Unknown', 'War', 'Thriller', 'Musical', 'Short', 'Comedy', 'Mystery', 'Film-Noir', 'Adult', 'Horror', 'Adventure', 'Biography', 'History', 'Family', 'Reality-TV', 'News', 'Crime', 'Western', 'Sci-Fi']\n"
     ]
    }
   ],
   "source": [
    "# Split the genres by comma into lists\n",
    "split_genres = training_df['genre'].str.split(', ')\n",
    "\n",
    "# Flatten the list of lists into a single list of genres\n",
    "flat_genres = [genre for sublist in split_genres.dropna() for genre in sublist]\n",
    "\n",
    "# Get the unique genres by converting the list to a set, then back to a list\n",
    "unique_single_genres = list(set(flat_genres))\n",
    "\n",
    "print(unique_single_genres)\n"
   ]
  },
  {
   "cell_type": "markdown",
   "metadata": {},
   "source": [
    "Binary encoding per genre"
   ]
  },
  {
   "cell_type": "code",
   "execution_count": 26,
   "metadata": {},
   "outputs": [],
   "source": [
    "# Initialize columns for each unique genre with default value 0\n",
    "for genre in unique_single_genres:\n",
    "    training_df[genre] = 0\n",
    "\n",
    "# Iterate over the DataFrame to update genre columns\n",
    "for index, row in training_df.iterrows():\n",
    "    # Split the genre string into a list\n",
    "    genres_list = row['genre'].split(', ')\n",
    "    # Update corresponding genre columns to 1\n",
    "    for genre in genres_list:\n",
    "        training_df.at[index, genre] = 1"
   ]
  },
  {
   "cell_type": "code",
   "execution_count": 27,
   "metadata": {},
   "outputs": [],
   "source": [
    "# List of genre columns\n",
    "genre_columns = [\n",
    "    'History', 'Action', 'Short', 'Unknown', 'Family', 'Adventure', 'Adult', \n",
    "    'Sci-Fi', 'Reality-TV', 'Music', 'Drama', 'Comedy', 'Sport', 'Talk-Show', \n",
    "    'Film-Noir', 'Animation', 'War', 'Western', 'Thriller', 'Biography', \n",
    "    'Documentary', 'Game-Show', 'Horror', 'Fantasy', 'Musical', 'News', \n",
    "    'Crime', 'Romance', 'Mystery'\n",
    "]\n",
    "\n",
    "# Dictionary for renaming columns\n",
    "rename_dict = {col: 'gn_' + col.lower() for col in genre_columns}\n",
    "\n",
    "# Rename the columns\n",
    "training_df.rename(columns=rename_dict, inplace=True)"
   ]
  },
  {
   "cell_type": "markdown",
   "metadata": {},
   "source": [
    "### language\n",
    "A title can be available in multiple languages"
   ]
  },
  {
   "cell_type": "code",
   "execution_count": 28,
   "metadata": {},
   "outputs": [],
   "source": [
    "# Replace null values in 'genre' with a placeholder like 'Unknown'\n",
    "training_df['language'].fillna('Other', inplace=True)\n",
    "training_df['language'].replace('N/A', 'Other', inplace=True)\n",
    "training_df['language'].replace('Unknown', 'Other', inplace=True)\n",
    "training_df['language'].replace('None', 'Other', inplace=True)"
   ]
  },
  {
   "cell_type": "code",
   "execution_count": 29,
   "metadata": {},
   "outputs": [
    {
     "name": "stdout",
     "output_type": "stream",
     "text": [
      "['Hausa', 'Aboriginal', 'Central Khmer', 'Awadhi', 'Finnish', 'Malayalam', 'Old', 'Minangkabau', 'Sign ', 'Fon', 'Kikuyu', 'Amharic', 'Japanese', 'Thai', 'Turkmen', 'Min Nan', 'Kannada', 'Tarahumara', 'Xhosa', 'Latvian', 'German', 'Sicilian', 'Estonian', 'Chechen', 'Albanian', 'Other', 'Dutch', 'Mixtec', 'Tupi', 'Swahili', 'Dari', 'Bulgarian', 'Macedonian', 'Cantonese', 'Lao', 'Low German', 'Maya', 'Romany', 'Mongolian', 'Slovenian', 'Maltese', 'Slovak', 'English', 'Marathi', 'Aramaic', 'Bosnian', 'Syriac', 'Tamil', 'Italian', 'Uzbek', 'Brazilian Sign ', 'Maori', 'Ibibio', 'Vietnamese', 'Apache languages', 'Sioux', 'Basque', 'Ukrainian', 'Samoan', 'Hindi', 'Tagalog', 'Welsh', 'Marshallese', 'Zulu', 'Egyptian (Ancient)', 'Irish Gaelic', 'Western Frisian', 'Azerbaijani', 'Persian', 'Guarani', 'British Sign ', 'Urdu', 'North American Indian', 'Cree', 'Telugu', 'Navajo', 'Sanskrit', 'Chaozhou', 'Spanish Sign ', 'Klingon', 'Nahuatl', 'Japanese Sign ', 'Punjabi', 'Galician', 'Norse', 'Georgian', 'Filipino', 'Chinese', 'Serbo-Croatian', 'Hebrew', 'Luxembourgish', 'Corsican', 'Mende', 'Hungarian', 'Indonesian', 'Nyanja', 'Pawnee', 'Saami', 'Spanish', 'Sindarin', 'Swiss German', 'Somali', 'Gaelic', 'Rajasthani', 'Polish', 'Inuktitut', 'Arabic', 'Cornish', 'Gujarati', 'Malay', 'Hawaiian', 'Swedish', 'Greek', 'American Sign ', 'Serbian', 'Tibetan', 'Korean Sign ', 'Latin', 'Quenya', 'Sotho', 'Quechua', 'Haitian', 'Armenian', 'None', 'Czech', 'Flemish', 'Pashtu', 'Yiddish', 'Romanian', 'Polynesian', 'Akan', 'Korean', 'Lingala', 'Bengali', 'Lithuanian', 'Catalan', 'Scots', 'Berber languages', 'Russian', 'Belarusian', 'Esperanto', 'Neapolitan', 'Old English', 'Dzongkha', 'Kurdish', 'Ancient (to 1453)', 'Washoe', 'Bambara', 'Afrikaans', 'Ukrainian Sign ', 'Parsee', 'Burmese', 'Hokkien', 'Micmac', 'Shoshoni', 'Bable', 'Ibo', 'Visayan', 'Hakka', 'Croatian', 'Dinka', 'Mandarin', 'Icelandic', 'Nepali', 'Turkish', 'Norwegian', 'Yoruba', 'Portuguese', 'Danish', 'Ladino', 'Wolof', 'Shanghainese', 'Uighur', 'Hmong', 'Bhojpuri', 'French', 'Papiamento', 'Kirundi']\n"
     ]
    }
   ],
   "source": [
    "# Split the languages by comma into lists\n",
    "split_language = training_df['language'].str.split(', ')\n",
    "\n",
    "# Flatten the list of lists into a single list of language\n",
    "flat_language = [language for sublist in split_language.dropna() for language in sublist]\n",
    "\n",
    "# Get the unique language by converting the list to a set, then back to a list\n",
    "unique_single_language = list(set(flat_language))\n",
    "\n",
    "print(unique_single_language)"
   ]
  },
  {
   "cell_type": "markdown",
   "metadata": {},
   "source": [
    "Identify the most frequent languages"
   ]
  },
  {
   "cell_type": "code",
   "execution_count": 30,
   "metadata": {},
   "outputs": [
    {
     "name": "stdout",
     "output_type": "stream",
     "text": [
      "[('English', 7867), ('Other', 5293), ('Spanish', 1305), ('Japanese', 1232), ('French', 906)]\n"
     ]
    }
   ],
   "source": [
    "from collections import Counter\n",
    "import pandas as pd\n",
    "\n",
    "# Split the languages and flatten the list\n",
    "all_languages = training_df['language'].str.split(', ').sum()\n",
    "\n",
    "# Count the occurrences of each language\n",
    "language_counts = Counter(all_languages)\n",
    "\n",
    "# Get the five most common languages\n",
    "top_five_languages = language_counts.most_common(5)\n",
    "\n",
    "print(top_five_languages)\n"
   ]
  },
  {
   "cell_type": "markdown",
   "metadata": {},
   "source": [
    "Binary encoding for all available languages based on top five most frequent languages"
   ]
  },
  {
   "cell_type": "code",
   "execution_count": 31,
   "metadata": {},
   "outputs": [],
   "source": [
    "# List of top five languages\n",
    "top_languages = ['English', 'Other', 'Spanish', 'Japanese', 'French']\n",
    "\n",
    "# Initialize columns for top languages with 0\n",
    "for lang in top_languages:\n",
    "    training_df[lang] = 0\n",
    "\n",
    "# Update the binary columns based on language presence\n",
    "for index, row in training_df.iterrows():\n",
    "    if pd.notna(row['language']):\n",
    "        # Split the languages in the row\n",
    "        languages_in_row = row['language'].split(', ')\n",
    "        # Update columns if the language is in the row\n",
    "        for lang in languages_in_row:\n",
    "            if lang in top_languages:\n",
    "                training_df.at[index, lang] = 1\n",
    "            else:\n",
    "                training_df.at[index, 'Other'] = 1\n"
   ]
  },
  {
   "cell_type": "code",
   "execution_count": 32,
   "metadata": {},
   "outputs": [],
   "source": [
    "training_df.rename(columns={'English': 'lg_english', 'Other': 'lg_other', 'Spanish': 'lg_spanish', 'Japanese': 'lg_japanese', 'French': 'lg_french'}, inplace=True)"
   ]
  },
  {
   "cell_type": "markdown",
   "metadata": {},
   "source": [
    "### country"
   ]
  },
  {
   "cell_type": "markdown",
   "metadata": {},
   "source": [
    "Fill null values with 'Other'"
   ]
  },
  {
   "cell_type": "code",
   "execution_count": 33,
   "metadata": {},
   "outputs": [],
   "source": [
    "# Replace null values in 'genre' with a placeholder like 'Unknown'\n",
    "training_df['country'].fillna('Other', inplace=True)\n",
    "training_df['country'].replace('N/A', 'Other', inplace=True)"
   ]
  },
  {
   "cell_type": "markdown",
   "metadata": {},
   "source": [
    "List all available counteries "
   ]
  },
  {
   "cell_type": "code",
   "execution_count": 34,
   "metadata": {},
   "outputs": [
    {
     "name": "stdout",
     "output_type": "stream",
     "text": [
      "['Kazakhstan', 'East Germany', 'United Arab Emirates', 'South Africa', 'Andorra', 'Lithuania', 'Switzerland', 'Mexico', 'Pakistan', 'Madagascar', 'Georgia', 'Israel', 'Malaysia', 'Puerto Rico', 'Czech Republic', 'Bhutan', 'Monaco', 'Kuwait', 'Guatemala', 'Syria', 'Other', 'Burkina Faso', 'Japan', 'Libya', 'Croatia', 'Laos', 'Canada', 'Ireland', 'Turkey', 'Spain', 'Thailand', 'Guinea', 'Uruguay', 'Iraq', 'Martinique', 'Djibouti', 'Bulgaria', 'Colombia', 'Egypt', 'Yugoslavia', 'South Korea', 'Nigeria', 'Paraguay', 'Serbia and Montenegro', 'Bangladesh', 'Saudi Arabia', 'Romania', 'Cyprus', 'United Kingdom', 'Dominican Republic', 'North Korea', 'Iran', 'Somalia', 'Ghana', 'USA', 'Brazil', 'Italy', 'Brunei', 'Chile', 'Vietnam', 'Slovakia', 'Liechtenstein', 'Lesotho', 'Ukraine', 'UK', 'Hong Kong', 'Malawi', 'American Samoa', 'Morocco', 'Norway', 'Algeria', 'Jordan', 'China', 'Poland', 'Haiti', 'Tanzania', 'Hungary', 'Antarctica', 'Zimbabwe', 'Panama', 'West Germany', 'Denmark', 'Senegal', 'Indonesia', 'Montenegro', 'Mauritius', 'Serbia', 'Angola', 'Ethiopia', 'France', 'Maldives', 'Albania', 'Slovenia', 'New Zealand', 'Botswana', 'United States', 'Russia', 'Occupied Palestinian Territory', 'Cambodia', 'Philippines', 'Lebanon', 'Sierra Leone', 'Mauritania', 'Estonia', 'India', 'Finland', 'Netherlands', 'Soviet Union', 'Argentina', 'Singapore', 'Portugal', 'Bahamas', 'Ecuador', 'Malta', 'Peru', 'Uganda', 'Myanmar', 'Czechoslovakia', 'The Democratic Republic of Congo', 'Bermuda', 'Cameroon', 'Luxembourg', 'Nepal', 'Venezuela', 'Austria', 'Tunisia', 'Kenya', 'Zambia', 'Belgium', 'Taiwan', 'Australia', 'Bosnia and Herzegovina', 'Iceland', 'Latvia', 'Greece', 'Sweden', 'North Macedonia', 'Qatar', 'Germany']\n"
     ]
    }
   ],
   "source": [
    "# Split the country by comma into lists\n",
    "split_country = training_df['country'].str.split(', ')\n",
    "\n",
    "# Flatten the list of lists into a single list of country\n",
    "flat_country = [country for sublist in split_country.dropna() for country in sublist]\n",
    "\n",
    "# Get the unique country by converting the list to a set, then back to a list\n",
    "unique_single_country = list(set(flat_country))\n",
    "\n",
    "print(unique_single_country)"
   ]
  },
  {
   "cell_type": "markdown",
   "metadata": {},
   "source": [
    "Get the most 5 frequent counteries "
   ]
  },
  {
   "cell_type": "code",
   "execution_count": 35,
   "metadata": {},
   "outputs": [
    {
     "name": "stdout",
     "output_type": "stream",
     "text": [
      "[('United States', 5436), ('Other', 5202), ('United Kingdom', 1428), ('Japan', 1165), ('South Korea', 770), ('France', 759), ('Canada', 758), ('India', 633), ('Germany', 621), ('Spain', 431)]\n"
     ]
    }
   ],
   "source": [
    "from collections import Counter\n",
    "import pandas as pd\n",
    "\n",
    "# Split the country and flatten the list\n",
    "split_country = training_df['country'].str.split(', ')\n",
    "flat_country = [country for sublist in split_country.dropna() for country in sublist]\n",
    "\n",
    "# Count the occurrences of each country\n",
    "country_counts = Counter(flat_country)\n",
    "\n",
    "# Get the five most common countries\n",
    "top_five_country = country_counts.most_common(10)\n",
    "\n",
    "print(top_five_country)"
   ]
  },
  {
   "cell_type": "markdown",
   "metadata": {},
   "source": [
    "Binary encoding for countary names, by selecting only the 5 most frequent counteries, and consider other counteries as 'Other'. "
   ]
  },
  {
   "cell_type": "code",
   "execution_count": 36,
   "metadata": {},
   "outputs": [],
   "source": [
    "# List of top five country\n",
    "top_country = ['United States', 'Other', 'United Kingdom', 'Japan', 'France']\n",
    "\n",
    "# Initialize columns for top country with 0\n",
    "for country in top_country:\n",
    "    training_df[country] = 0\n",
    "\n",
    "# Update the binary columns based on country presence\n",
    "for index, row in training_df.iterrows():\n",
    "    if pd.notna(row['country']):\n",
    "        # Split the country in the row\n",
    "        country_in_row = row['country'].split(', ')\n",
    "        # Update columns if the country is in the row\n",
    "        for country in country_in_row:\n",
    "            if country in top_country:\n",
    "                training_df.at[index, lang] = 1\n",
    "            else:\n",
    "                training_df.at[index, 'Other'] = 1"
   ]
  },
  {
   "cell_type": "code",
   "execution_count": 37,
   "metadata": {},
   "outputs": [],
   "source": [
    "training_df.rename(columns={'United States': 'ct_united_states', 'Other': 'ct_other', 'United Kingdom': 'ct_united_kingdom', 'Japan': 'ct_japan', 'France': 'ct_france'}, inplace=True)"
   ]
  },
  {
   "cell_type": "markdown",
   "metadata": {},
   "source": [
    "### imdb_rating"
   ]
  },
  {
   "cell_type": "markdown",
   "metadata": {},
   "source": [
    "Plotting a histogram of the imdb_rating frequency."
   ]
  },
  {
   "cell_type": "code",
   "execution_count": 72,
   "metadata": {},
   "outputs": [],
   "source": [
    "training_df['imdb_rating'] = df['imdbRating']"
   ]
  },
  {
   "cell_type": "code",
   "execution_count": 73,
   "metadata": {},
   "outputs": [
    {
     "data": {
      "image/png": "[encoded data removed]",
      "text/plain": [
       "<Figure size 432x288 with 1 Axes>"
      ]
     },
     "metadata": {
      "needs_background": "light"
     },
     "output_type": "display_data"
    }
   ],
   "source": [
    "# Assuming 'runtime' column is already converted to numeric\n",
    "training_df['imdb_rating'].dropna().hist(bins=50)\n",
    "plt.title('IMDB Rating Distribution')\n",
    "plt.xlabel('Rate')\n",
    "plt.ylabel('Frequency')\n",
    "plt.show()"
   ]
  },
  {
   "cell_type": "markdown",
   "metadata": {},
   "source": [
    "Mean and median imputation method"
   ]
  },
  {
   "cell_type": "code",
   "execution_count": 70,
   "metadata": {},
   "outputs": [],
   "source": [
    "'''\n",
    "# Calculate mean and median of imdb_rating\n",
    "mean_rating = training_df['imdb_rating'].mean()\n",
    "median_rating = training_df['imdb_rating'].median()\n",
    "\n",
    "# Impute missing values with the mean or median\n",
    "# Using mean\n",
    "training_df['imdb_rating'].fillna(median_rating, inplace=True)\n",
    "training_df['country'].replace('N/A', median_rating, inplace=True)\n",
    "'''"
   ]
  },
  {
   "cell_type": "markdown",
   "metadata": {},
   "source": [
    "K-Nearest neighbors imputation method"
   ]
  },
  {
   "cell_type": "code",
   "execution_count": 75,
   "metadata": {},
   "outputs": [],
   "source": [
    "from sklearn.experimental import enable_iterative_imputer\n",
    "from sklearn.impute import IterativeImputer\n",
    "\n",
    "# Initialize the IterativeImputer\n",
    "mice_imputer = IterativeImputer()\n",
    "\n",
    "# Again, use only numeric data\n",
    "numeric_df = training_df.select_dtypes(include=[np.number])\n",
    "\n",
    "# Fit the imputer and transform the data\n",
    "imputed_data = mice_imputer.fit_transform(numeric_df)\n",
    "imputed_df = pd.DataFrame(imputed_data, columns=numeric_df.columns, index=training_df.index)\n",
    "\n",
    "# Replace the old 'imdb_rating' with the imputed values\n",
    "training_df['imdb_rating'] = imputed_df['imdb_rating']"
   ]
  },
  {
   "cell_type": "markdown",
   "metadata": {},
   "source": [
    "Multiple Imputation by Chained Equations (MICE):\n"
   ]
  },
  {
   "cell_type": "code",
   "execution_count": 66,
   "metadata": {},
   "outputs": [],
   "source": [
    "'''\n",
    "from sklearn.experimental import enable_iterative_imputer\n",
    "from sklearn.impute import IterativeImputer\n",
    "\n",
    "# Initialize the IterativeImputer\n",
    "mice_imputer = IterativeImputer()\n",
    "\n",
    "# Again, use only numeric data\n",
    "numeric_df = training_df.select_dtypes(include=[np.number])\n",
    "\n",
    "# Fit the imputer and transform the data\n",
    "imputed_data = mice_imputer.fit_transform(numeric_df)\n",
    "imputed_df = pd.DataFrame(imputed_data, columns=numeric_df.columns, index=training_df.index)\n",
    "\n",
    "# Replace the old 'imdb_rating' with the imputed values\n",
    "training_df['imdb_rating'] = imputed_df['imdb_rating']\n",
    "'''"
   ]
  },
  {
   "cell_type": "code",
   "execution_count": 76,
   "metadata": {},
   "outputs": [
    {
     "data": {
      "image/png": "[encoded data removed]",
      "text/plain": [
       "<Figure size 432x288 with 1 Axes>"
      ]
     },
     "metadata": {
      "needs_background": "light"
     },
     "output_type": "display_data"
    }
   ],
   "source": [
    "# Assuming 'runtime' column is already converted to numeric\n",
    "training_df['imdb_rating'].dropna().hist(bins=50)\n",
    "plt.title('IMDB Rating Distribution')\n",
    "plt.xlabel('Rate')\n",
    "plt.ylabel('Frequency')\n",
    "plt.show()"
   ]
  },
  {
   "cell_type": "code",
   "execution_count": 78,
   "metadata": {},
   "outputs": [
    {
     "name": "stdout",
     "output_type": "stream",
     "text": [
      "<class 'pandas.core.frame.DataFrame'>\n",
      "RangeIndex: 18214 entries, 0 to 18213\n",
      "Data columns (total 51 columns):\n",
      " #   Column              Non-Null Count  Dtype   \n",
      "---  ------              --------------  -----   \n",
      " 0   movie_title         18214 non-null  object  \n",
      " 1   available_globally  18214 non-null  int64   \n",
      " 2   viewing_hours       18214 non-null  int64   \n",
      " 3   release_month       18214 non-null  int64   \n",
      " 4   runtime             18214 non-null  int64   \n",
      " 5   runtime_category    18214 non-null  category\n",
      " 6   genre               18214 non-null  object  \n",
      " 7   language            18214 non-null  object  \n",
      " 8   country             18214 non-null  object  \n",
      " 9   imdb_rating         18214 non-null  float64 \n",
      " 10  type                13308 non-null  object  \n",
      " 11  total_seasons       4333 non-null   float64 \n",
      " 12  gn_action           18214 non-null  int64   \n",
      " 13  gn_documentary      18214 non-null  int64   \n",
      " 14  gn_game-show        18214 non-null  int64   \n",
      " 15  gn_animation        18214 non-null  int64   \n",
      " 16  gn_music            18214 non-null  int64   \n",
      " 17  gn_talk-show        18214 non-null  int64   \n",
      " 18  gn_romance          18214 non-null  int64   \n",
      " 19  gn_drama            18214 non-null  int64   \n",
      " 20  gn_fantasy          18214 non-null  int64   \n",
      " 21  gn_sport            18214 non-null  int64   \n",
      " 22  gn_unknown          18214 non-null  int64   \n",
      " 23  gn_war              18214 non-null  int64   \n",
      " 24  gn_thriller         18214 non-null  int64   \n",
      " 25  gn_musical          18214 non-null  int64   \n",
      " 26  gn_short            18214 non-null  int64   \n",
      " 27  gn_comedy           18214 non-null  int64   \n",
      " 28  gn_mystery          18214 non-null  int64   \n",
      " 29  gn_film-noir        18214 non-null  int64   \n",
      " 30  gn_adult            18214 non-null  int64   \n",
      " 31  gn_horror           18214 non-null  int64   \n",
      " 32  gn_adventure        18214 non-null  int64   \n",
      " 33  gn_biography        18214 non-null  int64   \n",
      " 34  gn_history          18214 non-null  int64   \n",
      " 35  gn_family           18214 non-null  int64   \n",
      " 36  gn_reality-tv       18214 non-null  int64   \n",
      " 37  gn_news             18214 non-null  int64   \n",
      " 38  gn_crime            18214 non-null  int64   \n",
      " 39  gn_western          18214 non-null  int64   \n",
      " 40  gn_sci-fi           18214 non-null  int64   \n",
      " 41  lg_english          18214 non-null  int64   \n",
      " 42  lg_other            18214 non-null  int64   \n",
      " 43  lg_spanish          18214 non-null  int64   \n",
      " 44  lg_japanese         18214 non-null  int64   \n",
      " 45  lg_french           18214 non-null  int64   \n",
      " 46  ct_united_states    18214 non-null  int64   \n",
      " 47  ct_other            18214 non-null  int64   \n",
      " 48  ct_united_kingdom   18214 non-null  int64   \n",
      " 49  ct_japan            18214 non-null  int64   \n",
      " 50  ct_france           18214 non-null  int64   \n",
      "dtypes: category(1), float64(2), int64(43), object(5)\n",
      "memory usage: 7.0+ MB\n"
     ]
    }
   ],
   "source": [
    "training_df.info()"
   ]
  },
  {
   "cell_type": "markdown",
   "metadata": {},
   "source": [
    "### type"
   ]
  },
  {
   "cell_type": "code",
   "execution_count": 80,
   "metadata": {},
   "outputs": [
    {
     "data": {
      "text/plain": [
       "array(['series', nan, 'movie'], dtype=object)"
      ]
     },
     "execution_count": 80,
     "metadata": {},
     "output_type": "execute_result"
    }
   ],
   "source": [
    "training_df['type'].unique()"
   ]
  },
  {
   "cell_type": "code",
   "execution_count": 81,
   "metadata": {},
   "outputs": [],
   "source": [
    "def encode_type(row):\n",
    "    if pd.isnull(row['type']):\n",
    "        return 'movie' if row['runtime'] > 75 else 'series'\n",
    "    return row['type']\n",
    "\n",
    "training_df['type'] = training_df.apply(encode_type, axis=1)"
   ]
  },
  {
   "cell_type": "markdown",
   "metadata": {},
   "source": [
    "### total_seasons"
   ]
  },
  {
   "cell_type": "code",
   "execution_count": 85,
   "metadata": {},
   "outputs": [
    {
     "data": {
      "image/png": "[encoded data removed]",
      "text/plain": [
       "<Figure size 432x288 with 1 Axes>"
      ]
     },
     "metadata": {
      "needs_background": "light"
     },
     "output_type": "display_data"
    }
   ],
   "source": [
    "training_df['total_seasons'].dropna().hist(bins=50)\n",
    "plt.title('Total Seasons Distribution')\n",
    "plt.xlabel('Seasons')\n",
    "plt.ylabel('Frequency')\n",
    "plt.show()"
   ]
  },
  {
   "cell_type": "code",
   "execution_count": 86,
   "metadata": {},
   "outputs": [],
   "source": [
    "training_df['total_seasons'].fillna(1, inplace=True)\n",
    "training_df['total_seasons'].replace('N/A', 1, inplace=True)"
   ]
  },
  {
   "cell_type": "code",
   "execution_count": null,
   "metadata": {},
   "outputs": [],
   "source": [
    "training_df.to_csv('./training_data.csv', index=False)"
   ]
  },
  {
   "cell_type": "code",
   "execution_count": 87,
   "metadata": {},
   "outputs": [
    {
     "data": {
      "text/plain": [
       "movie_title           0\n",
       "available_globally    0\n",
       "viewing_hours         0\n",
       "release_month         0\n",
       "runtime               0\n",
       "runtime_category      0\n",
       "genre                 0\n",
       "language              0\n",
       "country               0\n",
       "imdb_rating           0\n",
       "type                  0\n",
       "total_seasons         0\n",
       "gn_action             0\n",
       "gn_documentary        0\n",
       "gn_game-show          0\n",
       "gn_animation          0\n",
       "gn_music              0\n",
       "gn_talk-show          0\n",
       "gn_romance            0\n",
       "gn_drama              0\n",
       "gn_fantasy            0\n",
       "gn_sport              0\n",
       "gn_unknown            0\n",
       "gn_war                0\n",
       "gn_thriller           0\n",
       "gn_musical            0\n",
       "gn_short              0\n",
       "gn_comedy             0\n",
       "gn_mystery            0\n",
       "gn_film-noir          0\n",
       "gn_adult              0\n",
       "gn_horror             0\n",
       "gn_adventure          0\n",
       "gn_biography          0\n",
       "gn_history            0\n",
       "gn_family             0\n",
       "gn_reality-tv         0\n",
       "gn_news               0\n",
       "gn_crime              0\n",
       "gn_western            0\n",
       "gn_sci-fi             0\n",
       "lg_english            0\n",
       "lg_other              0\n",
       "lg_spanish            0\n",
       "lg_japanese           0\n",
       "lg_french             0\n",
       "ct_united_states      0\n",
       "ct_other              0\n",
       "ct_united_kingdom     0\n",
       "ct_japan              0\n",
       "ct_france             0\n",
       "dtype: int64"
      ]
     },
     "execution_count": 87,
     "metadata": {},
     "output_type": "execute_result"
    }
   ],
   "source": [
    "training_df.isnull().sum()"
   ]
  },
  {
   "cell_type": "code",
   "execution_count": 83,
   "metadata": {},
   "outputs": [
    {
     "data": {
      "text/html": [
       "<div>\n",
       "<style scoped>\n",
       "    .dataframe tbody tr th:only-of-type {\n",
       "        vertical-align: middle;\n",
       "    }\n",
       "\n",
       "    .dataframe tbody tr th {\n",
       "        vertical-align: top;\n",
       "    }\n",
       "\n",
       "    .dataframe thead th {\n",
       "        text-align: right;\n",
       "    }\n",
       "</style>\n",
       "<table border=\"1\" class=\"dataframe\">\n",
       "  <thead>\n",
       "    <tr style=\"text-align: right;\">\n",
       "      <th></th>\n",
       "      <th>movie_title</th>\n",
       "      <th>available_globally</th>\n",
       "      <th>viewing_hours</th>\n",
       "      <th>release_month</th>\n",
       "      <th>runtime</th>\n",
       "      <th>runtime_category</th>\n",
       "      <th>genre</th>\n",
       "      <th>language</th>\n",
       "      <th>country</th>\n",
       "      <th>imdb_rating</th>\n",
       "      <th>...</th>\n",
       "      <th>lg_english</th>\n",
       "      <th>lg_other</th>\n",
       "      <th>lg_spanish</th>\n",
       "      <th>lg_japanese</th>\n",
       "      <th>lg_french</th>\n",
       "      <th>ct_united_states</th>\n",
       "      <th>ct_other</th>\n",
       "      <th>ct_united_kingdom</th>\n",
       "      <th>ct_japan</th>\n",
       "      <th>ct_france</th>\n",
       "    </tr>\n",
       "  </thead>\n",
       "  <tbody>\n",
       "    <tr>\n",
       "      <th>0</th>\n",
       "      <td>The Night Agent</td>\n",
       "      <td>1</td>\n",
       "      <td>812100000</td>\n",
       "      <td>3</td>\n",
       "      <td>30</td>\n",
       "      <td>Short</td>\n",
       "      <td>Action, Drama, Thriller</td>\n",
       "      <td>English</td>\n",
       "      <td>United States</td>\n",
       "      <td>7.500000</td>\n",
       "      <td>...</td>\n",
       "      <td>1</td>\n",
       "      <td>0</td>\n",
       "      <td>0</td>\n",
       "      <td>0</td>\n",
       "      <td>0</td>\n",
       "      <td>0</td>\n",
       "      <td>1</td>\n",
       "      <td>0</td>\n",
       "      <td>0</td>\n",
       "      <td>0</td>\n",
       "    </tr>\n",
       "    <tr>\n",
       "      <th>1</th>\n",
       "      <td>Ginny &amp; Georgia</td>\n",
       "      <td>1</td>\n",
       "      <td>665100000</td>\n",
       "      <td>2</td>\n",
       "      <td>30</td>\n",
       "      <td>Short</td>\n",
       "      <td>Comedy, Drama</td>\n",
       "      <td>English</td>\n",
       "      <td>United States</td>\n",
       "      <td>7.500000</td>\n",
       "      <td>...</td>\n",
       "      <td>1</td>\n",
       "      <td>0</td>\n",
       "      <td>0</td>\n",
       "      <td>0</td>\n",
       "      <td>0</td>\n",
       "      <td>0</td>\n",
       "      <td>1</td>\n",
       "      <td>0</td>\n",
       "      <td>0</td>\n",
       "      <td>0</td>\n",
       "    </tr>\n",
       "    <tr>\n",
       "      <th>2</th>\n",
       "      <td>The Glory</td>\n",
       "      <td>1</td>\n",
       "      <td>622800000</td>\n",
       "      <td>12</td>\n",
       "      <td>30</td>\n",
       "      <td>Short</td>\n",
       "      <td>Drama, Mystery, Thriller</td>\n",
       "      <td>Korean</td>\n",
       "      <td>South Korea</td>\n",
       "      <td>8.100000</td>\n",
       "      <td>...</td>\n",
       "      <td>0</td>\n",
       "      <td>1</td>\n",
       "      <td>0</td>\n",
       "      <td>0</td>\n",
       "      <td>0</td>\n",
       "      <td>0</td>\n",
       "      <td>1</td>\n",
       "      <td>0</td>\n",
       "      <td>0</td>\n",
       "      <td>0</td>\n",
       "    </tr>\n",
       "    <tr>\n",
       "      <th>3</th>\n",
       "      <td>Wednesday</td>\n",
       "      <td>1</td>\n",
       "      <td>507700000</td>\n",
       "      <td>11</td>\n",
       "      <td>30</td>\n",
       "      <td>Short</td>\n",
       "      <td>Comedy, Crime, Fantasy</td>\n",
       "      <td>English</td>\n",
       "      <td>United States</td>\n",
       "      <td>8.100000</td>\n",
       "      <td>...</td>\n",
       "      <td>1</td>\n",
       "      <td>0</td>\n",
       "      <td>0</td>\n",
       "      <td>0</td>\n",
       "      <td>0</td>\n",
       "      <td>0</td>\n",
       "      <td>1</td>\n",
       "      <td>0</td>\n",
       "      <td>0</td>\n",
       "      <td>0</td>\n",
       "    </tr>\n",
       "    <tr>\n",
       "      <th>4</th>\n",
       "      <td>Queen Charlotte: A Bridgerton Story</td>\n",
       "      <td>1</td>\n",
       "      <td>503000000</td>\n",
       "      <td>5</td>\n",
       "      <td>30</td>\n",
       "      <td>Short</td>\n",
       "      <td>Drama, History, Romance</td>\n",
       "      <td>English</td>\n",
       "      <td>United States</td>\n",
       "      <td>7.400000</td>\n",
       "      <td>...</td>\n",
       "      <td>1</td>\n",
       "      <td>0</td>\n",
       "      <td>0</td>\n",
       "      <td>0</td>\n",
       "      <td>0</td>\n",
       "      <td>0</td>\n",
       "      <td>1</td>\n",
       "      <td>0</td>\n",
       "      <td>0</td>\n",
       "      <td>0</td>\n",
       "    </tr>\n",
       "    <tr>\n",
       "      <th>5</th>\n",
       "      <td>You</td>\n",
       "      <td>1</td>\n",
       "      <td>440600000</td>\n",
       "      <td>9</td>\n",
       "      <td>45</td>\n",
       "      <td>Medium</td>\n",
       "      <td>Crime, Drama, Romance</td>\n",
       "      <td>English</td>\n",
       "      <td>United States</td>\n",
       "      <td>7.700000</td>\n",
       "      <td>...</td>\n",
       "      <td>1</td>\n",
       "      <td>0</td>\n",
       "      <td>0</td>\n",
       "      <td>0</td>\n",
       "      <td>0</td>\n",
       "      <td>0</td>\n",
       "      <td>1</td>\n",
       "      <td>0</td>\n",
       "      <td>0</td>\n",
       "      <td>0</td>\n",
       "    </tr>\n",
       "    <tr>\n",
       "      <th>6</th>\n",
       "      <td>La Reina del Sur</td>\n",
       "      <td>0</td>\n",
       "      <td>429600000</td>\n",
       "      <td>2</td>\n",
       "      <td>378</td>\n",
       "      <td>Long</td>\n",
       "      <td>Action, Crime, Drama</td>\n",
       "      <td>Spanish, Arabic, Russian, English</td>\n",
       "      <td>Mexico, United States, Spain, Colombia</td>\n",
       "      <td>7.900000</td>\n",
       "      <td>...</td>\n",
       "      <td>1</td>\n",
       "      <td>1</td>\n",
       "      <td>1</td>\n",
       "      <td>0</td>\n",
       "      <td>0</td>\n",
       "      <td>0</td>\n",
       "      <td>1</td>\n",
       "      <td>0</td>\n",
       "      <td>0</td>\n",
       "      <td>0</td>\n",
       "    </tr>\n",
       "    <tr>\n",
       "      <th>7</th>\n",
       "      <td>Outer Banks</td>\n",
       "      <td>1</td>\n",
       "      <td>402500000</td>\n",
       "      <td>4</td>\n",
       "      <td>50</td>\n",
       "      <td>Medium</td>\n",
       "      <td>Action, Crime, Drama</td>\n",
       "      <td>English</td>\n",
       "      <td>United States</td>\n",
       "      <td>7.500000</td>\n",
       "      <td>...</td>\n",
       "      <td>1</td>\n",
       "      <td>0</td>\n",
       "      <td>0</td>\n",
       "      <td>0</td>\n",
       "      <td>0</td>\n",
       "      <td>0</td>\n",
       "      <td>1</td>\n",
       "      <td>0</td>\n",
       "      <td>0</td>\n",
       "      <td>0</td>\n",
       "    </tr>\n",
       "    <tr>\n",
       "      <th>8</th>\n",
       "      <td>Ginny &amp; Georgia</td>\n",
       "      <td>1</td>\n",
       "      <td>302100000</td>\n",
       "      <td>2</td>\n",
       "      <td>30</td>\n",
       "      <td>Short</td>\n",
       "      <td>Comedy, Drama</td>\n",
       "      <td>English</td>\n",
       "      <td>United States</td>\n",
       "      <td>7.500000</td>\n",
       "      <td>...</td>\n",
       "      <td>1</td>\n",
       "      <td>0</td>\n",
       "      <td>0</td>\n",
       "      <td>0</td>\n",
       "      <td>0</td>\n",
       "      <td>0</td>\n",
       "      <td>1</td>\n",
       "      <td>0</td>\n",
       "      <td>0</td>\n",
       "      <td>0</td>\n",
       "    </tr>\n",
       "    <tr>\n",
       "      <th>9</th>\n",
       "      <td>FUBAR</td>\n",
       "      <td>1</td>\n",
       "      <td>266200000</td>\n",
       "      <td>5</td>\n",
       "      <td>30</td>\n",
       "      <td>Short</td>\n",
       "      <td>Action, Adventure, Comedy</td>\n",
       "      <td>English</td>\n",
       "      <td>United States</td>\n",
       "      <td>6.500000</td>\n",
       "      <td>...</td>\n",
       "      <td>1</td>\n",
       "      <td>0</td>\n",
       "      <td>0</td>\n",
       "      <td>0</td>\n",
       "      <td>0</td>\n",
       "      <td>0</td>\n",
       "      <td>1</td>\n",
       "      <td>0</td>\n",
       "      <td>0</td>\n",
       "      <td>0</td>\n",
       "    </tr>\n",
       "    <tr>\n",
       "      <th>10</th>\n",
       "      <td>Manifest</td>\n",
       "      <td>1</td>\n",
       "      <td>262600000</td>\n",
       "      <td>9</td>\n",
       "      <td>43</td>\n",
       "      <td>Medium</td>\n",
       "      <td>Drama, Mystery, Sci-Fi</td>\n",
       "      <td>English</td>\n",
       "      <td>United States</td>\n",
       "      <td>7.100000</td>\n",
       "      <td>...</td>\n",
       "      <td>1</td>\n",
       "      <td>0</td>\n",
       "      <td>0</td>\n",
       "      <td>0</td>\n",
       "      <td>0</td>\n",
       "      <td>0</td>\n",
       "      <td>1</td>\n",
       "      <td>0</td>\n",
       "      <td>0</td>\n",
       "      <td>0</td>\n",
       "    </tr>\n",
       "    <tr>\n",
       "      <th>11</th>\n",
       "      <td>Kaleidoscope: Limited Series</td>\n",
       "      <td>1</td>\n",
       "      <td>252500000</td>\n",
       "      <td>7</td>\n",
       "      <td>93</td>\n",
       "      <td>Feature Long</td>\n",
       "      <td>Unknown</td>\n",
       "      <td>Other</td>\n",
       "      <td>Other</td>\n",
       "      <td>7.415513</td>\n",
       "      <td>...</td>\n",
       "      <td>0</td>\n",
       "      <td>1</td>\n",
       "      <td>0</td>\n",
       "      <td>0</td>\n",
       "      <td>0</td>\n",
       "      <td>0</td>\n",
       "      <td>1</td>\n",
       "      <td>0</td>\n",
       "      <td>0</td>\n",
       "      <td>0</td>\n",
       "    </tr>\n",
       "    <tr>\n",
       "      <th>12</th>\n",
       "      <td>Firefly Lane</td>\n",
       "      <td>1</td>\n",
       "      <td>251500000</td>\n",
       "      <td>2</td>\n",
       "      <td>30</td>\n",
       "      <td>Short</td>\n",
       "      <td>Drama, Romance</td>\n",
       "      <td>English</td>\n",
       "      <td>United States</td>\n",
       "      <td>7.700000</td>\n",
       "      <td>...</td>\n",
       "      <td>1</td>\n",
       "      <td>0</td>\n",
       "      <td>0</td>\n",
       "      <td>0</td>\n",
       "      <td>0</td>\n",
       "      <td>0</td>\n",
       "      <td>1</td>\n",
       "      <td>0</td>\n",
       "      <td>0</td>\n",
       "      <td>0</td>\n",
       "    </tr>\n",
       "    <tr>\n",
       "      <th>13</th>\n",
       "      <td>The Mother</td>\n",
       "      <td>1</td>\n",
       "      <td>249900000</td>\n",
       "      <td>5</td>\n",
       "      <td>115</td>\n",
       "      <td>Feature Long</td>\n",
       "      <td>Action, Thriller</td>\n",
       "      <td>English</td>\n",
       "      <td>United States</td>\n",
       "      <td>5.600000</td>\n",
       "      <td>...</td>\n",
       "      <td>1</td>\n",
       "      <td>0</td>\n",
       "      <td>0</td>\n",
       "      <td>0</td>\n",
       "      <td>0</td>\n",
       "      <td>0</td>\n",
       "      <td>1</td>\n",
       "      <td>0</td>\n",
       "      <td>0</td>\n",
       "      <td>0</td>\n",
       "    </tr>\n",
       "    <tr>\n",
       "      <th>14</th>\n",
       "      <td>Physical: 100</td>\n",
       "      <td>1</td>\n",
       "      <td>235000000</td>\n",
       "      <td>1</td>\n",
       "      <td>30</td>\n",
       "      <td>Short</td>\n",
       "      <td>Game-Show, Reality-TV</td>\n",
       "      <td>Korean</td>\n",
       "      <td>South Korea</td>\n",
       "      <td>7.600000</td>\n",
       "      <td>...</td>\n",
       "      <td>0</td>\n",
       "      <td>1</td>\n",
       "      <td>0</td>\n",
       "      <td>0</td>\n",
       "      <td>0</td>\n",
       "      <td>0</td>\n",
       "      <td>1</td>\n",
       "      <td>0</td>\n",
       "      <td>0</td>\n",
       "      <td>0</td>\n",
       "    </tr>\n",
       "    <tr>\n",
       "      <th>15</th>\n",
       "      <td>Crash Course in Romance: Limited Series</td>\n",
       "      <td>1</td>\n",
       "      <td>234800000</td>\n",
       "      <td>7</td>\n",
       "      <td>93</td>\n",
       "      <td>Feature Long</td>\n",
       "      <td>Unknown</td>\n",
       "      <td>Other</td>\n",
       "      <td>Other</td>\n",
       "      <td>7.343859</td>\n",
       "      <td>...</td>\n",
       "      <td>0</td>\n",
       "      <td>1</td>\n",
       "      <td>0</td>\n",
       "      <td>0</td>\n",
       "      <td>0</td>\n",
       "      <td>0</td>\n",
       "      <td>1</td>\n",
       "      <td>0</td>\n",
       "      <td>0</td>\n",
       "      <td>0</td>\n",
       "    </tr>\n",
       "    <tr>\n",
       "      <th>16</th>\n",
       "      <td>Love Is Blind</td>\n",
       "      <td>1</td>\n",
       "      <td>229700000</td>\n",
       "      <td>2</td>\n",
       "      <td>1</td>\n",
       "      <td>Short</td>\n",
       "      <td>Reality-TV, Romance</td>\n",
       "      <td>English</td>\n",
       "      <td>United States</td>\n",
       "      <td>6.200000</td>\n",
       "      <td>...</td>\n",
       "      <td>1</td>\n",
       "      <td>0</td>\n",
       "      <td>0</td>\n",
       "      <td>0</td>\n",
       "      <td>0</td>\n",
       "      <td>0</td>\n",
       "      <td>1</td>\n",
       "      <td>0</td>\n",
       "      <td>0</td>\n",
       "      <td>0</td>\n",
       "    </tr>\n",
       "    <tr>\n",
       "      <th>17</th>\n",
       "      <td>BEEF</td>\n",
       "      <td>1</td>\n",
       "      <td>221100000</td>\n",
       "      <td>4</td>\n",
       "      <td>30</td>\n",
       "      <td>Short</td>\n",
       "      <td>Comedy, Drama</td>\n",
       "      <td>English</td>\n",
       "      <td>United States</td>\n",
       "      <td>8.000000</td>\n",
       "      <td>...</td>\n",
       "      <td>1</td>\n",
       "      <td>0</td>\n",
       "      <td>0</td>\n",
       "      <td>0</td>\n",
       "      <td>0</td>\n",
       "      <td>0</td>\n",
       "      <td>1</td>\n",
       "      <td>0</td>\n",
       "      <td>0</td>\n",
       "      <td>0</td>\n",
       "    </tr>\n",
       "    <tr>\n",
       "      <th>18</th>\n",
       "      <td>The Diplomat</td>\n",
       "      <td>1</td>\n",
       "      <td>214100000</td>\n",
       "      <td>4</td>\n",
       "      <td>30</td>\n",
       "      <td>Short</td>\n",
       "      <td>Drama, Thriller</td>\n",
       "      <td>English</td>\n",
       "      <td>United Kingdom, United States</td>\n",
       "      <td>8.000000</td>\n",
       "      <td>...</td>\n",
       "      <td>1</td>\n",
       "      <td>0</td>\n",
       "      <td>0</td>\n",
       "      <td>0</td>\n",
       "      <td>0</td>\n",
       "      <td>0</td>\n",
       "      <td>1</td>\n",
       "      <td>0</td>\n",
       "      <td>0</td>\n",
       "      <td>0</td>\n",
       "    </tr>\n",
       "    <tr>\n",
       "      <th>19</th>\n",
       "      <td>Luther: The Fallen Sun</td>\n",
       "      <td>1</td>\n",
       "      <td>209700000</td>\n",
       "      <td>3</td>\n",
       "      <td>129</td>\n",
       "      <td>Long</td>\n",
       "      <td>Crime, Drama, Mystery</td>\n",
       "      <td>English, Estonian, Portuguese</td>\n",
       "      <td>United Kingdom, United States</td>\n",
       "      <td>6.400000</td>\n",
       "      <td>...</td>\n",
       "      <td>1</td>\n",
       "      <td>1</td>\n",
       "      <td>0</td>\n",
       "      <td>0</td>\n",
       "      <td>0</td>\n",
       "      <td>0</td>\n",
       "      <td>1</td>\n",
       "      <td>0</td>\n",
       "      <td>0</td>\n",
       "      <td>0</td>\n",
       "    </tr>\n",
       "  </tbody>\n",
       "</table>\n",
       "<p>20 rows × 51 columns</p>\n",
       "</div>"
      ],
      "text/plain": [
       "                                 movie_title  available_globally  \\\n",
       "0                            The Night Agent                   1   \n",
       "1                            Ginny & Georgia                   1   \n",
       "2                                 The Glory                    1   \n",
       "3                                  Wednesday                   1   \n",
       "4        Queen Charlotte: A Bridgerton Story                   1   \n",
       "5                                        You                   1   \n",
       "6                           La Reina del Sur                   0   \n",
       "7                                Outer Banks                   1   \n",
       "8                            Ginny & Georgia                   1   \n",
       "9                                      FUBAR                   1   \n",
       "10                                  Manifest                   1   \n",
       "11              Kaleidoscope: Limited Series                   1   \n",
       "12                              Firefly Lane                   1   \n",
       "13                                The Mother                   1   \n",
       "14                            Physical: 100                    1   \n",
       "15  Crash Course in Romance: Limited Series                    1   \n",
       "16                             Love Is Blind                   1   \n",
       "17                                      BEEF                   1   \n",
       "18                              The Diplomat                   1   \n",
       "19                    Luther: The Fallen Sun                   1   \n",
       "\n",
       "    viewing_hours  release_month  runtime runtime_category  \\\n",
       "0       812100000              3       30            Short   \n",
       "1       665100000              2       30            Short   \n",
       "2       622800000             12       30            Short   \n",
       "3       507700000             11       30            Short   \n",
       "4       503000000              5       30            Short   \n",
       "5       440600000              9       45           Medium   \n",
       "6       429600000              2      378             Long   \n",
       "7       402500000              4       50           Medium   \n",
       "8       302100000              2       30            Short   \n",
       "9       266200000              5       30            Short   \n",
       "10      262600000              9       43           Medium   \n",
       "11      252500000              7       93     Feature Long   \n",
       "12      251500000              2       30            Short   \n",
       "13      249900000              5      115     Feature Long   \n",
       "14      235000000              1       30            Short   \n",
       "15      234800000              7       93     Feature Long   \n",
       "16      229700000              2        1            Short   \n",
       "17      221100000              4       30            Short   \n",
       "18      214100000              4       30            Short   \n",
       "19      209700000              3      129             Long   \n",
       "\n",
       "                        genre                           language  \\\n",
       "0     Action, Drama, Thriller                            English   \n",
       "1               Comedy, Drama                            English   \n",
       "2    Drama, Mystery, Thriller                             Korean   \n",
       "3      Comedy, Crime, Fantasy                            English   \n",
       "4     Drama, History, Romance                            English   \n",
       "5       Crime, Drama, Romance                            English   \n",
       "6        Action, Crime, Drama  Spanish, Arabic, Russian, English   \n",
       "7        Action, Crime, Drama                            English   \n",
       "8               Comedy, Drama                            English   \n",
       "9   Action, Adventure, Comedy                            English   \n",
       "10     Drama, Mystery, Sci-Fi                            English   \n",
       "11                    Unknown                              Other   \n",
       "12             Drama, Romance                            English   \n",
       "13           Action, Thriller                            English   \n",
       "14      Game-Show, Reality-TV                             Korean   \n",
       "15                    Unknown                              Other   \n",
       "16        Reality-TV, Romance                            English   \n",
       "17              Comedy, Drama                            English   \n",
       "18            Drama, Thriller                            English   \n",
       "19      Crime, Drama, Mystery      English, Estonian, Portuguese   \n",
       "\n",
       "                                   country  imdb_rating  ... lg_english  \\\n",
       "0                            United States     7.500000  ...          1   \n",
       "1                            United States     7.500000  ...          1   \n",
       "2                              South Korea     8.100000  ...          0   \n",
       "3                            United States     8.100000  ...          1   \n",
       "4                            United States     7.400000  ...          1   \n",
       "5                            United States     7.700000  ...          1   \n",
       "6   Mexico, United States, Spain, Colombia     7.900000  ...          1   \n",
       "7                            United States     7.500000  ...          1   \n",
       "8                            United States     7.500000  ...          1   \n",
       "9                            United States     6.500000  ...          1   \n",
       "10                           United States     7.100000  ...          1   \n",
       "11                                   Other     7.415513  ...          0   \n",
       "12                           United States     7.700000  ...          1   \n",
       "13                           United States     5.600000  ...          1   \n",
       "14                             South Korea     7.600000  ...          0   \n",
       "15                                   Other     7.343859  ...          0   \n",
       "16                           United States     6.200000  ...          1   \n",
       "17                           United States     8.000000  ...          1   \n",
       "18           United Kingdom, United States     8.000000  ...          1   \n",
       "19           United Kingdom, United States     6.400000  ...          1   \n",
       "\n",
       "    lg_other  lg_spanish  lg_japanese  lg_french  ct_united_states  ct_other  \\\n",
       "0          0           0            0          0                 0         1   \n",
       "1          0           0            0          0                 0         1   \n",
       "2          1           0            0          0                 0         1   \n",
       "3          0           0            0          0                 0         1   \n",
       "4          0           0            0          0                 0         1   \n",
       "5          0           0            0          0                 0         1   \n",
       "6          1           1            0          0                 0         1   \n",
       "7          0           0            0          0                 0         1   \n",
       "8          0           0            0          0                 0         1   \n",
       "9          0           0            0          0                 0         1   \n",
       "10         0           0            0          0                 0         1   \n",
       "11         1           0            0          0                 0         1   \n",
       "12         0           0            0          0                 0         1   \n",
       "13         0           0            0          0                 0         1   \n",
       "14         1           0            0          0                 0         1   \n",
       "15         1           0            0          0                 0         1   \n",
       "16         0           0            0          0                 0         1   \n",
       "17         0           0            0          0                 0         1   \n",
       "18         0           0            0          0                 0         1   \n",
       "19         1           0            0          0                 0         1   \n",
       "\n",
       "    ct_united_kingdom  ct_japan  ct_france  \n",
       "0                   0         0          0  \n",
       "1                   0         0          0  \n",
       "2                   0         0          0  \n",
       "3                   0         0          0  \n",
       "4                   0         0          0  \n",
       "5                   0         0          0  \n",
       "6                   0         0          0  \n",
       "7                   0         0          0  \n",
       "8                   0         0          0  \n",
       "9                   0         0          0  \n",
       "10                  0         0          0  \n",
       "11                  0         0          0  \n",
       "12                  0         0          0  \n",
       "13                  0         0          0  \n",
       "14                  0         0          0  \n",
       "15                  0         0          0  \n",
       "16                  0         0          0  \n",
       "17                  0         0          0  \n",
       "18                  0         0          0  \n",
       "19                  0         0          0  \n",
       "\n",
       "[20 rows x 51 columns]"
      ]
     },
     "execution_count": 83,
     "metadata": {},
     "output_type": "execute_result"
    }
   ],
   "source": [
    "training_df.head(20)"
   ]
  },
  {
   "cell_type": "code",
   "execution_count": null,
   "metadata": {},
   "outputs": [],
   "source": []
  }
 ],
 "metadata": {
  "kernelspec": {
   "display_name": "Python 3",
   "language": "python",
   "name": "python3"
  },
  "language_info": {
   "codemirror_mode": {
    "name": "ipython",
    "version": 3
   },
   "file_extension": ".py",
   "mimetype": "text/x-python",
   "name": "python",
   "nbconvert_exporter": "python",
   "pygments_lexer": "ipython3",
   "version": "3.9.12"
  }
 },
 "nbformat": 4,
 "nbformat_minor": 2
}
